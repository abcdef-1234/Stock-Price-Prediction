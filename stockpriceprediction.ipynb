{
  "cells": [
    {
      "cell_type": "code",
      "source": [
        "#Importing all the required packages and libraries in to the dataframe \n",
        "import pandas as pd\n",
        "import numpy as np\n",
        "import csv\n",
        "import random\n",
        "import nltk\n",
        "from nltk.sentiment.vader import SentimentIntensityAnalyzer"
      ],
      "metadata": {
        "id": "wbsUaTAEyatf"
      },
      "id": "wbsUaTAEyatf",
      "execution_count": null,
      "outputs": []
    },
    {
      "cell_type": "code",
      "source": [
        "from tensorflow.keras.models import Sequential\n",
        "from tensorflow.keras.layers import LSTM,Dropout\n",
        "from tensorflow.keras.layers import Dense"
      ],
      "metadata": {
        "id": "DJ0mmpGkywa3"
      },
      "id": "DJ0mmpGkywa3",
      "execution_count": null,
      "outputs": []
    },
    {
      "cell_type": "code",
      "source": [
        "from sklearn.preprocessing import MinMaxScaler\n",
        "import sklearn.metrics as metrics"
      ],
      "metadata": {
        "id": "swROP60Yyyh-"
      },
      "id": "swROP60Yyyh-",
      "execution_count": null,
      "outputs": []
    },
    {
      "cell_type": "code",
      "source": [
        "from google.colab import files\n",
        "uploaded=files.upload()"
      ],
      "metadata": {
        "colab": {
          "resources": {
            "http://localhost:8080/nbextensions/google.colab/files.js": {
              "data": "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",
              "ok": true,
              "headers": [
                [
                  "content-type",
                  "application/javascript"
                ]
              ],
              "status": 200,
              "status_text": ""
            }
          },
          "base_uri": "https://localhost:8080/",
          "height": 73
        },
        "id": "t591RPGj4DMK",
        "outputId": "4d7b0a6d-74a5-4eba-fb33-76e8775c98a9"
      },
      "id": "t591RPGj4DMK",
      "execution_count": null,
      "outputs": [
        {
          "output_type": "display_data",
          "data": {
            "text/html": [
              "\n",
              "     <input type=\"file\" id=\"files-440542af-8059-4fd2-9406-7b506de3e77e\" name=\"files[]\" multiple disabled\n",
              "        style=\"border:none\" />\n",
              "     <output id=\"result-440542af-8059-4fd2-9406-7b506de3e77e\">\n",
              "      Upload widget is only available when the cell has been executed in the\n",
              "      current browser session. Please rerun this cell to enable.\n",
              "      </output>\n",
              "      <script src=\"/nbextensions/google.colab/files.js\"></script> "
            ],
            "text/plain": [
              "<IPython.core.display.HTML object>"
            ]
          },
          "metadata": {}
        },
        {
          "output_type": "stream",
          "name": "stdout",
          "text": [
            "Saving tweets_scraped_2016_2021.csv to tweets_scraped_2016_2021 (2).csv\n"
          ]
        }
      ]
    },
    {
      "cell_type": "code",
      "source": [
        "import io\n",
        "#Reading the 2016-2021 tweets file with ticker symbol obtained using snscarpe scraper into a Dataframe\n",
        "dlf=pd.read_csv(io.BytesIO(uploaded[\"tweets_scraped_2016_2021.csv\"]))"
      ],
      "metadata": {
        "id": "db3cJzIhy0kT"
      },
      "id": "db3cJzIhy0kT",
      "execution_count": null,
      "outputs": []
    },
    {
      "cell_type": "code",
      "source": [
        "dlf.tail()"
      ],
      "metadata": {
        "id": "pjw5Lb4my6Mc",
        "colab": {
          "base_uri": "https://localhost:8080/",
          "height": 206
        },
        "outputId": "1427668b-c2f4-49bd-891f-f3c52985bfdc"
      },
      "id": "pjw5Lb4my6Mc",
      "execution_count": null,
      "outputs": [
        {
          "output_type": "execute_result",
          "data": {
            "text/html": [
              "<div>\n",
              "<style scoped>\n",
              "    .dataframe tbody tr th:only-of-type {\n",
              "        vertical-align: middle;\n",
              "    }\n",
              "\n",
              "    .dataframe tbody tr th {\n",
              "        vertical-align: top;\n",
              "    }\n",
              "\n",
              "    .dataframe thead th {\n",
              "        text-align: right;\n",
              "    }\n",
              "</style>\n",
              "<table border=\"1\" class=\"dataframe\">\n",
              "  <thead>\n",
              "    <tr style=\"text-align: right;\">\n",
              "      <th></th>\n",
              "      <th>Datetime</th>\n",
              "      <th>Text</th>\n",
              "    </tr>\n",
              "  </thead>\n",
              "  <tbody>\n",
              "    <tr>\n",
              "      <th>18695</th>\n",
              "      <td>2021-12-02 04:35:07+00:00</td>\n",
              "      <td>Stock: $AAPL - Apple Inc.\\n*** NEWS ***\\nProfi...</td>\n",
              "    </tr>\n",
              "    <tr>\n",
              "      <th>18696</th>\n",
              "      <td>2021-12-02 04:15:47+00:00</td>\n",
              "      <td>A bunch of people are about to find out that t...</td>\n",
              "    </tr>\n",
              "    <tr>\n",
              "      <th>18697</th>\n",
              "      <td>2021-12-02 04:08:57+00:00</td>\n",
              "      <td>$AAPL This guy posting Bear 🐻 posts all last m...</td>\n",
              "    </tr>\n",
              "    <tr>\n",
              "      <th>18698</th>\n",
              "      <td>2021-12-02 03:25:10+00:00</td>\n",
              "      <td>$AAPL i'm an apple bull but expect a pullback ...</td>\n",
              "    </tr>\n",
              "    <tr>\n",
              "      <th>18699</th>\n",
              "      <td>2021-12-02 00:39:25+00:00</td>\n",
              "      <td>Bought a $140 $aapl put when it was up $167 ye...</td>\n",
              "    </tr>\n",
              "  </tbody>\n",
              "</table>\n",
              "</div>"
            ],
            "text/plain": [
              "                        Datetime                                               Text\n",
              "18695  2021-12-02 04:35:07+00:00  Stock: $AAPL - Apple Inc.\\n*** NEWS ***\\nProfi...\n",
              "18696  2021-12-02 04:15:47+00:00  A bunch of people are about to find out that t...\n",
              "18697  2021-12-02 04:08:57+00:00  $AAPL This guy posting Bear 🐻 posts all last m...\n",
              "18698  2021-12-02 03:25:10+00:00  $AAPL i'm an apple bull but expect a pullback ...\n",
              "18699  2021-12-02 00:39:25+00:00  Bought a $140 $aapl put when it was up $167 ye..."
            ]
          },
          "metadata": {},
          "execution_count": 163
        }
      ]
    },
    {
      "cell_type": "code",
      "source": [
        "dlf.dtypes"
      ],
      "metadata": {
        "id": "khQ2aOBMy8c-",
        "colab": {
          "base_uri": "https://localhost:8080/"
        },
        "outputId": "cdbd478e-12f4-4665-815e-3a340fc09576"
      },
      "id": "khQ2aOBMy8c-",
      "execution_count": null,
      "outputs": [
        {
          "output_type": "execute_result",
          "data": {
            "text/plain": [
              "Datetime    object\n",
              "Text        object\n",
              "dtype: object"
            ]
          },
          "metadata": {},
          "execution_count": 164
        }
      ]
    },
    {
      "cell_type": "code",
      "source": [
        "#As we only require the Date from Datetime format, we first convert the value into a Datetime format\n",
        "#Then convert it into Date and store it in the Dataframe\n",
        "dlf['Datetime']=pd.to_datetime(dlf.Datetime).dt.date"
      ],
      "metadata": {
        "id": "94fj2Becy_B7"
      },
      "id": "94fj2Becy_B7",
      "execution_count": null,
      "outputs": []
    },
    {
      "cell_type": "code",
      "source": [
        "#Grouping tweets into a single row based on date\n",
        "df=dlf.groupby(by=\"Datetime\", as_index=False)['Text'].apply(' '.join)\n",
        "df.dropna(inplace=True)"
      ],
      "metadata": {
        "id": "1NFSczf3zJ5x"
      },
      "id": "1NFSczf3zJ5x",
      "execution_count": null,
      "outputs": []
    },
    {
      "cell_type": "code",
      "source": [
        "#Changing the date format to string because we need it to merge with the stock price dataset\n",
        "df['Datetime']=df['Datetime'].astype(str)"
      ],
      "metadata": {
        "id": "6Zt72XedzKhZ"
      },
      "id": "6Zt72XedzKhZ",
      "execution_count": null,
      "outputs": []
    },
    {
      "cell_type": "code",
      "source": [
        "df.head()"
      ],
      "metadata": {
        "id": "w9LvPkiWzMa8",
        "colab": {
          "base_uri": "https://localhost:8080/",
          "height": 206
        },
        "outputId": "fb324e98-0d79-4829-b1ac-60d5a6b0d064"
      },
      "id": "w9LvPkiWzMa8",
      "execution_count": null,
      "outputs": [
        {
          "output_type": "execute_result",
          "data": {
            "text/html": [
              "<div>\n",
              "<style scoped>\n",
              "    .dataframe tbody tr th:only-of-type {\n",
              "        vertical-align: middle;\n",
              "    }\n",
              "\n",
              "    .dataframe tbody tr th {\n",
              "        vertical-align: top;\n",
              "    }\n",
              "\n",
              "    .dataframe thead th {\n",
              "        text-align: right;\n",
              "    }\n",
              "</style>\n",
              "<table border=\"1\" class=\"dataframe\">\n",
              "  <thead>\n",
              "    <tr style=\"text-align: right;\">\n",
              "      <th></th>\n",
              "      <th>Datetime</th>\n",
              "      <th>Text</th>\n",
              "    </tr>\n",
              "  </thead>\n",
              "  <tbody>\n",
              "    <tr>\n",
              "      <th>0</th>\n",
              "      <td>2016-01-01</td>\n",
              "      <td>2/n. Apple has peaked in my view. The stock $a...</td>\n",
              "    </tr>\n",
              "    <tr>\n",
              "      <th>1</th>\n",
              "      <td>2016-01-02</td>\n",
              "      <td>AAPL Apple, Inc. % Change\\nhttps://t.co/1F3brx...</td>\n",
              "    </tr>\n",
              "    <tr>\n",
              "      <th>2</th>\n",
              "      <td>2016-01-03</td>\n",
              "      <td>AAPL Apple, Inc. P/E Ratio\\nhttps://t.co/iFloX...</td>\n",
              "    </tr>\n",
              "    <tr>\n",
              "      <th>3</th>\n",
              "      <td>2016-01-04</td>\n",
              "      <td>Apple Stock Price: 105.35 #apple $AAPL Apple S...</td>\n",
              "    </tr>\n",
              "    <tr>\n",
              "      <th>4</th>\n",
              "      <td>2016-01-05</td>\n",
              "      <td>Remember that time when 40 months passed and A...</td>\n",
              "    </tr>\n",
              "  </tbody>\n",
              "</table>\n",
              "</div>"
            ],
            "text/plain": [
              "     Datetime                                               Text\n",
              "0  2016-01-01  2/n. Apple has peaked in my view. The stock $a...\n",
              "1  2016-01-02  AAPL Apple, Inc. % Change\\nhttps://t.co/1F3brx...\n",
              "2  2016-01-03  AAPL Apple, Inc. P/E Ratio\\nhttps://t.co/iFloX...\n",
              "3  2016-01-04  Apple Stock Price: 105.35 #apple $AAPL Apple S...\n",
              "4  2016-01-05  Remember that time when 40 months passed and A..."
            ]
          },
          "metadata": {},
          "execution_count": 168
        }
      ]
    },
    {
      "cell_type": "code",
      "source": [
        "#Calling the vader sentiment analyser imported from nltk\n",
        "#Using Vader as it has high accuracy\n",
        "nltk.download('vader_lexicon')\n",
        "dlfpolarityanalyser = SentimentIntensityAnalyzer()"
      ],
      "metadata": {
        "id": "IKqV6lMZzOVj",
        "colab": {
          "base_uri": "https://localhost:8080/"
        },
        "outputId": "4b82e05d-412a-474f-9397-bfe1161f3e59"
      },
      "id": "IKqV6lMZzOVj",
      "execution_count": null,
      "outputs": [
        {
          "output_type": "stream",
          "name": "stdout",
          "text": [
            "[nltk_data] Downloading package vader_lexicon to /root/nltk_data...\n",
            "[nltk_data]   Package vader_lexicon is already up-to-date!\n"
          ]
        }
      ]
    },
    {
      "cell_type": "code",
      "source": [
        "#Initialising sentiment column in the dataframe\n",
        "df['sentiment']=''"
      ],
      "metadata": {
        "id": "8MDkbEzizQYL"
      },
      "id": "8MDkbEzizQYL",
      "execution_count": null,
      "outputs": []
    },
    {
      "cell_type": "code",
      "source": [
        "#Iteraing through all the tweets by date and then storing the sentiment values in the sentiment column\n",
        "for j in range(0,len(df)):\n",
        "    df.sentiment.iloc[j]=dlfpolarityanalyser.polarity_scores(df.Text.iloc[j])['compound']"
      ],
      "metadata": {
        "id": "0SKugUcHzUtV"
      },
      "id": "0SKugUcHzUtV",
      "execution_count": null,
      "outputs": []
    },
    {
      "cell_type": "code",
      "source": [
        "df.head()"
      ],
      "metadata": {
        "id": "reCghZ5Pzfvn",
        "colab": {
          "base_uri": "https://localhost:8080/",
          "height": 206
        },
        "outputId": "8733e9a4-73e5-410d-fa34-cc4f55436e11"
      },
      "id": "reCghZ5Pzfvn",
      "execution_count": null,
      "outputs": [
        {
          "output_type": "execute_result",
          "data": {
            "text/html": [
              "<div>\n",
              "<style scoped>\n",
              "    .dataframe tbody tr th:only-of-type {\n",
              "        vertical-align: middle;\n",
              "    }\n",
              "\n",
              "    .dataframe tbody tr th {\n",
              "        vertical-align: top;\n",
              "    }\n",
              "\n",
              "    .dataframe thead th {\n",
              "        text-align: right;\n",
              "    }\n",
              "</style>\n",
              "<table border=\"1\" class=\"dataframe\">\n",
              "  <thead>\n",
              "    <tr style=\"text-align: right;\">\n",
              "      <th></th>\n",
              "      <th>Datetime</th>\n",
              "      <th>Text</th>\n",
              "      <th>sentiment</th>\n",
              "    </tr>\n",
              "  </thead>\n",
              "  <tbody>\n",
              "    <tr>\n",
              "      <th>0</th>\n",
              "      <td>2016-01-01</td>\n",
              "      <td>2/n. Apple has peaked in my view. The stock $a...</td>\n",
              "      <td>-0.9052</td>\n",
              "    </tr>\n",
              "    <tr>\n",
              "      <th>1</th>\n",
              "      <td>2016-01-02</td>\n",
              "      <td>AAPL Apple, Inc. % Change\\nhttps://t.co/1F3brx...</td>\n",
              "      <td>-0.6844</td>\n",
              "    </tr>\n",
              "    <tr>\n",
              "      <th>2</th>\n",
              "      <td>2016-01-03</td>\n",
              "      <td>AAPL Apple, Inc. P/E Ratio\\nhttps://t.co/iFloX...</td>\n",
              "      <td>0.4098</td>\n",
              "    </tr>\n",
              "    <tr>\n",
              "      <th>3</th>\n",
              "      <td>2016-01-04</td>\n",
              "      <td>Apple Stock Price: 105.35 #apple $AAPL Apple S...</td>\n",
              "      <td>-0.5962</td>\n",
              "    </tr>\n",
              "    <tr>\n",
              "      <th>4</th>\n",
              "      <td>2016-01-05</td>\n",
              "      <td>Remember that time when 40 months passed and A...</td>\n",
              "      <td>-0.2824</td>\n",
              "    </tr>\n",
              "  </tbody>\n",
              "</table>\n",
              "</div>"
            ],
            "text/plain": [
              "     Datetime                                               Text sentiment\n",
              "0  2016-01-01  2/n. Apple has peaked in my view. The stock $a...   -0.9052\n",
              "1  2016-01-02  AAPL Apple, Inc. % Change\\nhttps://t.co/1F3brx...   -0.6844\n",
              "2  2016-01-03  AAPL Apple, Inc. P/E Ratio\\nhttps://t.co/iFloX...    0.4098\n",
              "3  2016-01-04  Apple Stock Price: 105.35 #apple $AAPL Apple S...   -0.5962\n",
              "4  2016-01-05  Remember that time when 40 months passed and A...   -0.2824"
            ]
          },
          "metadata": {},
          "execution_count": 172
        }
      ]
    },
    {
      "cell_type": "code",
      "source": [
        "#Since we won't be needing the tweet text after this, we can drop the column\n",
        "df=df.drop('Text',1)\n",
        "df"
      ],
      "metadata": {
        "id": "XHDKTaGJzh6V",
        "colab": {
          "base_uri": "https://localhost:8080/",
          "height": 424
        },
        "outputId": "2efc39db-1400-44e7-ba32-fcf8672d8b98"
      },
      "id": "XHDKTaGJzh6V",
      "execution_count": null,
      "outputs": [
        {
          "output_type": "execute_result",
          "data": {
            "text/html": [
              "<div>\n",
              "<style scoped>\n",
              "    .dataframe tbody tr th:only-of-type {\n",
              "        vertical-align: middle;\n",
              "    }\n",
              "\n",
              "    .dataframe tbody tr th {\n",
              "        vertical-align: top;\n",
              "    }\n",
              "\n",
              "    .dataframe thead th {\n",
              "        text-align: right;\n",
              "    }\n",
              "</style>\n",
              "<table border=\"1\" class=\"dataframe\">\n",
              "  <thead>\n",
              "    <tr style=\"text-align: right;\">\n",
              "      <th></th>\n",
              "      <th>Datetime</th>\n",
              "      <th>sentiment</th>\n",
              "    </tr>\n",
              "  </thead>\n",
              "  <tbody>\n",
              "    <tr>\n",
              "      <th>0</th>\n",
              "      <td>2016-01-01</td>\n",
              "      <td>-0.9052</td>\n",
              "    </tr>\n",
              "    <tr>\n",
              "      <th>1</th>\n",
              "      <td>2016-01-02</td>\n",
              "      <td>-0.6844</td>\n",
              "    </tr>\n",
              "    <tr>\n",
              "      <th>2</th>\n",
              "      <td>2016-01-03</td>\n",
              "      <td>0.4098</td>\n",
              "    </tr>\n",
              "    <tr>\n",
              "      <th>3</th>\n",
              "      <td>2016-01-04</td>\n",
              "      <td>-0.5962</td>\n",
              "    </tr>\n",
              "    <tr>\n",
              "      <th>4</th>\n",
              "      <td>2016-01-05</td>\n",
              "      <td>-0.2824</td>\n",
              "    </tr>\n",
              "    <tr>\n",
              "      <th>...</th>\n",
              "      <td>...</td>\n",
              "      <td>...</td>\n",
              "    </tr>\n",
              "    <tr>\n",
              "      <th>2129</th>\n",
              "      <td>2021-11-28</td>\n",
              "      <td>0</td>\n",
              "    </tr>\n",
              "    <tr>\n",
              "      <th>2130</th>\n",
              "      <td>2021-11-29</td>\n",
              "      <td>0.9731</td>\n",
              "    </tr>\n",
              "    <tr>\n",
              "      <th>2131</th>\n",
              "      <td>2021-11-30</td>\n",
              "      <td>0.7199</td>\n",
              "    </tr>\n",
              "    <tr>\n",
              "      <th>2132</th>\n",
              "      <td>2021-12-01</td>\n",
              "      <td>0.9446</td>\n",
              "    </tr>\n",
              "    <tr>\n",
              "      <th>2133</th>\n",
              "      <td>2021-12-02</td>\n",
              "      <td>0.5815</td>\n",
              "    </tr>\n",
              "  </tbody>\n",
              "</table>\n",
              "<p>2134 rows × 2 columns</p>\n",
              "</div>"
            ],
            "text/plain": [
              "        Datetime sentiment\n",
              "0     2016-01-01   -0.9052\n",
              "1     2016-01-02   -0.6844\n",
              "2     2016-01-03    0.4098\n",
              "3     2016-01-04   -0.5962\n",
              "4     2016-01-05   -0.2824\n",
              "...          ...       ...\n",
              "2129  2021-11-28         0\n",
              "2130  2021-11-29    0.9731\n",
              "2131  2021-11-30    0.7199\n",
              "2132  2021-12-01    0.9446\n",
              "2133  2021-12-02    0.5815\n",
              "\n",
              "[2134 rows x 2 columns]"
            ]
          },
          "metadata": {},
          "execution_count": 173
        }
      ]
    },
    {
      "cell_type": "code",
      "source": [
        "#dropping any null values and checking the shape of the Dataframe\n",
        "df.dropna(inplace=True)\n",
        "df.shape"
      ],
      "metadata": {
        "id": "6L4G0Lj7zj3Z",
        "colab": {
          "base_uri": "https://localhost:8080/"
        },
        "outputId": "37b13672-d971-48cb-e603-601c51f9b8ca"
      },
      "id": "6L4G0Lj7zj3Z",
      "execution_count": null,
      "outputs": [
        {
          "output_type": "execute_result",
          "data": {
            "text/plain": [
              "(2134, 2)"
            ]
          },
          "metadata": {},
          "execution_count": 174
        }
      ]
    },
    {
      "cell_type": "code",
      "source": [
        "from google.colab import files\n",
        "uploaded1=files.upload()"
      ],
      "metadata": {
        "colab": {
          "resources": {
            "http://localhost:8080/nbextensions/google.colab/files.js": {
              "data": "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",
              "ok": true,
              "headers": [
                [
                  "content-type",
                  "application/javascript"
                ]
              ],
              "status": 200,
              "status_text": ""
            }
          },
          "base_uri": "https://localhost:8080/",
          "height": 73
        },
        "id": "qwJR5Xpx6gef",
        "outputId": "04a0bbdc-af16-47a0-c627-1de960ba800a"
      },
      "id": "qwJR5Xpx6gef",
      "execution_count": null,
      "outputs": [
        {
          "output_type": "display_data",
          "data": {
            "text/html": [
              "\n",
              "     <input type=\"file\" id=\"files-8eb37a5c-f925-455f-aff5-003f55bf67d3\" name=\"files[]\" multiple disabled\n",
              "        style=\"border:none\" />\n",
              "     <output id=\"result-8eb37a5c-f925-455f-aff5-003f55bf67d3\">\n",
              "      Upload widget is only available when the cell has been executed in the\n",
              "      current browser session. Please rerun this cell to enable.\n",
              "      </output>\n",
              "      <script src=\"/nbextensions/google.colab/files.js\"></script> "
            ],
            "text/plain": [
              "<IPython.core.display.HTML object>"
            ]
          },
          "metadata": {}
        },
        {
          "output_type": "stream",
          "name": "stdout",
          "text": [
            "Saving AAPL.csv to AAPL (1).csv\n"
          ]
        }
      ]
    },
    {
      "cell_type": "code",
      "source": [
        "#Reading the apple historical stock prices downlaoded using Yahoo Finance\n",
        "aapl_df=pd.read_csv(io.BytesIO(uploaded1[\"AAPL.csv\"]))"
      ],
      "metadata": {
        "id": "usS7DS3OzmEQ"
      },
      "id": "usS7DS3OzmEQ",
      "execution_count": null,
      "outputs": []
    },
    {
      "cell_type": "code",
      "source": [
        "aapl_df.head()"
      ],
      "metadata": {
        "id": "bj_FKhCFzoBO",
        "colab": {
          "base_uri": "https://localhost:8080/",
          "height": 206
        },
        "outputId": "4842f989-d823-45bd-ce25-4c406a17ba4c"
      },
      "id": "bj_FKhCFzoBO",
      "execution_count": null,
      "outputs": [
        {
          "output_type": "execute_result",
          "data": {
            "text/html": [
              "<div>\n",
              "<style scoped>\n",
              "    .dataframe tbody tr th:only-of-type {\n",
              "        vertical-align: middle;\n",
              "    }\n",
              "\n",
              "    .dataframe tbody tr th {\n",
              "        vertical-align: top;\n",
              "    }\n",
              "\n",
              "    .dataframe thead th {\n",
              "        text-align: right;\n",
              "    }\n",
              "</style>\n",
              "<table border=\"1\" class=\"dataframe\">\n",
              "  <thead>\n",
              "    <tr style=\"text-align: right;\">\n",
              "      <th></th>\n",
              "      <th>Date</th>\n",
              "      <th>Open</th>\n",
              "      <th>High</th>\n",
              "      <th>Low</th>\n",
              "      <th>Close</th>\n",
              "      <th>Adj Close</th>\n",
              "      <th>Volume</th>\n",
              "    </tr>\n",
              "  </thead>\n",
              "  <tbody>\n",
              "    <tr>\n",
              "      <th>0</th>\n",
              "      <td>2016-01-04</td>\n",
              "      <td>25.652500</td>\n",
              "      <td>26.342501</td>\n",
              "      <td>25.500000</td>\n",
              "      <td>26.337500</td>\n",
              "      <td>24.251436</td>\n",
              "      <td>270597600</td>\n",
              "    </tr>\n",
              "    <tr>\n",
              "      <th>1</th>\n",
              "      <td>2016-01-05</td>\n",
              "      <td>26.437500</td>\n",
              "      <td>26.462500</td>\n",
              "      <td>25.602501</td>\n",
              "      <td>25.677500</td>\n",
              "      <td>23.643705</td>\n",
              "      <td>223164000</td>\n",
              "    </tr>\n",
              "    <tr>\n",
              "      <th>2</th>\n",
              "      <td>2016-01-06</td>\n",
              "      <td>25.139999</td>\n",
              "      <td>25.592501</td>\n",
              "      <td>24.967501</td>\n",
              "      <td>25.174999</td>\n",
              "      <td>23.181009</td>\n",
              "      <td>273829600</td>\n",
              "    </tr>\n",
              "    <tr>\n",
              "      <th>3</th>\n",
              "      <td>2016-01-07</td>\n",
              "      <td>24.670000</td>\n",
              "      <td>25.032499</td>\n",
              "      <td>24.107500</td>\n",
              "      <td>24.112499</td>\n",
              "      <td>22.202667</td>\n",
              "      <td>324377600</td>\n",
              "    </tr>\n",
              "    <tr>\n",
              "      <th>4</th>\n",
              "      <td>2016-01-08</td>\n",
              "      <td>24.637501</td>\n",
              "      <td>24.777500</td>\n",
              "      <td>24.190001</td>\n",
              "      <td>24.240000</td>\n",
              "      <td>22.320068</td>\n",
              "      <td>283192000</td>\n",
              "    </tr>\n",
              "  </tbody>\n",
              "</table>\n",
              "</div>"
            ],
            "text/plain": [
              "         Date       Open       High        Low      Close  Adj Close     Volume\n",
              "0  2016-01-04  25.652500  26.342501  25.500000  26.337500  24.251436  270597600\n",
              "1  2016-01-05  26.437500  26.462500  25.602501  25.677500  23.643705  223164000\n",
              "2  2016-01-06  25.139999  25.592501  24.967501  25.174999  23.181009  273829600\n",
              "3  2016-01-07  24.670000  25.032499  24.107500  24.112499  22.202667  324377600\n",
              "4  2016-01-08  24.637501  24.777500  24.190001  24.240000  22.320068  283192000"
            ]
          },
          "metadata": {},
          "execution_count": 177
        }
      ]
    },
    {
      "cell_type": "code",
      "source": [
        "#Converting Date to string to merge it with the tweet sentiment dataset\n",
        "aapl_df['Date']=aapl_df['Date'].astype(str)"
      ],
      "metadata": {
        "id": "nOWaYdq9zqRw"
      },
      "id": "nOWaYdq9zqRw",
      "execution_count": null,
      "outputs": []
    },
    {
      "cell_type": "code",
      "source": [
        "#Renaming the Datetime column in Tweet sentiment Dataframe to Date to merge with stock dataframe\n",
        "df.rename(columns={'Datetime':'Date'},inplace=True)"
      ],
      "metadata": {
        "id": "kqFbZPpazutJ"
      },
      "id": "kqFbZPpazutJ",
      "execution_count": null,
      "outputs": []
    },
    {
      "cell_type": "code",
      "source": [
        "#Merging both stock price and tweet sentiment Dataframe on Date using Inner join of pandas\n",
        "mg=aapl_df.merge(df,on='Date',how='inner')"
      ],
      "metadata": {
        "id": "rM10fjj0zwrH"
      },
      "id": "rM10fjj0zwrH",
      "execution_count": null,
      "outputs": []
    },
    {
      "cell_type": "code",
      "source": [
        "#Dropping any null values in the new merged dataset and checking the shape (size) of the dataframe\n",
        "mg.dropna(inplace=True)\n",
        "mg.head()"
      ],
      "metadata": {
        "id": "t1XwgxdTzyPz",
        "colab": {
          "base_uri": "https://localhost:8080/",
          "height": 206
        },
        "outputId": "fc123b0c-ed25-4414-af10-c19d58b7ba29"
      },
      "id": "t1XwgxdTzyPz",
      "execution_count": null,
      "outputs": [
        {
          "output_type": "execute_result",
          "data": {
            "text/html": [
              "<div>\n",
              "<style scoped>\n",
              "    .dataframe tbody tr th:only-of-type {\n",
              "        vertical-align: middle;\n",
              "    }\n",
              "\n",
              "    .dataframe tbody tr th {\n",
              "        vertical-align: top;\n",
              "    }\n",
              "\n",
              "    .dataframe thead th {\n",
              "        text-align: right;\n",
              "    }\n",
              "</style>\n",
              "<table border=\"1\" class=\"dataframe\">\n",
              "  <thead>\n",
              "    <tr style=\"text-align: right;\">\n",
              "      <th></th>\n",
              "      <th>Date</th>\n",
              "      <th>Open</th>\n",
              "      <th>High</th>\n",
              "      <th>Low</th>\n",
              "      <th>Close</th>\n",
              "      <th>Adj Close</th>\n",
              "      <th>Volume</th>\n",
              "      <th>sentiment</th>\n",
              "    </tr>\n",
              "  </thead>\n",
              "  <tbody>\n",
              "    <tr>\n",
              "      <th>0</th>\n",
              "      <td>2016-01-04</td>\n",
              "      <td>25.652500</td>\n",
              "      <td>26.342501</td>\n",
              "      <td>25.500000</td>\n",
              "      <td>26.337500</td>\n",
              "      <td>24.251436</td>\n",
              "      <td>270597600</td>\n",
              "      <td>-0.5962</td>\n",
              "    </tr>\n",
              "    <tr>\n",
              "      <th>1</th>\n",
              "      <td>2016-01-05</td>\n",
              "      <td>26.437500</td>\n",
              "      <td>26.462500</td>\n",
              "      <td>25.602501</td>\n",
              "      <td>25.677500</td>\n",
              "      <td>23.643705</td>\n",
              "      <td>223164000</td>\n",
              "      <td>-0.2824</td>\n",
              "    </tr>\n",
              "    <tr>\n",
              "      <th>2</th>\n",
              "      <td>2016-01-06</td>\n",
              "      <td>25.139999</td>\n",
              "      <td>25.592501</td>\n",
              "      <td>24.967501</td>\n",
              "      <td>25.174999</td>\n",
              "      <td>23.181009</td>\n",
              "      <td>273829600</td>\n",
              "      <td>0.7612</td>\n",
              "    </tr>\n",
              "    <tr>\n",
              "      <th>3</th>\n",
              "      <td>2016-01-07</td>\n",
              "      <td>24.670000</td>\n",
              "      <td>25.032499</td>\n",
              "      <td>24.107500</td>\n",
              "      <td>24.112499</td>\n",
              "      <td>22.202667</td>\n",
              "      <td>324377600</td>\n",
              "      <td>0.9349</td>\n",
              "    </tr>\n",
              "    <tr>\n",
              "      <th>4</th>\n",
              "      <td>2016-01-08</td>\n",
              "      <td>24.637501</td>\n",
              "      <td>24.777500</td>\n",
              "      <td>24.190001</td>\n",
              "      <td>24.240000</td>\n",
              "      <td>22.320068</td>\n",
              "      <td>283192000</td>\n",
              "      <td>0.7236</td>\n",
              "    </tr>\n",
              "  </tbody>\n",
              "</table>\n",
              "</div>"
            ],
            "text/plain": [
              "         Date       Open       High  ...  Adj Close     Volume  sentiment\n",
              "0  2016-01-04  25.652500  26.342501  ...  24.251436  270597600    -0.5962\n",
              "1  2016-01-05  26.437500  26.462500  ...  23.643705  223164000    -0.2824\n",
              "2  2016-01-06  25.139999  25.592501  ...  23.181009  273829600     0.7612\n",
              "3  2016-01-07  24.670000  25.032499  ...  22.202667  324377600     0.9349\n",
              "4  2016-01-08  24.637501  24.777500  ...  22.320068  283192000     0.7236\n",
              "\n",
              "[5 rows x 8 columns]"
            ]
          },
          "metadata": {},
          "execution_count": 181
        }
      ]
    },
    {
      "cell_type": "code",
      "source": [
        "#Dropping columns that aren't required anymore\n",
        "mg=mg.drop('Open',1)\n",
        "mg=mg.drop('Low',1)\n",
        "mg=mg.drop('Close',1)\n",
        "mg=mg.drop('High',1)"
      ],
      "metadata": {
        "id": "kv_lFmT-zz_M"
      },
      "id": "kv_lFmT-zz_M",
      "execution_count": null,
      "outputs": []
    },
    {
      "cell_type": "code",
      "source": [
        "#Creating a new column called polarity and storing Positive, Negative or Neutral based on the tweet sentiment Value\n",
        "mg['polarity']=''\n",
        "for i in range(0,len(mg['sentiment'])):\n",
        "    if mg.sentiment.iloc[i]>0:\n",
        "        mg.polarity.iloc[i]=\"Positive\""
      ],
      "metadata": {
        "id": "_07B7_SXz11g",
        "colab": {
          "base_uri": "https://localhost:8080/"
        },
        "outputId": "c30cf290-dc72-4daa-98ce-fcd129cbeb69"
      },
      "id": "_07B7_SXz11g",
      "execution_count": null,
      "outputs": [
        {
          "output_type": "stream",
          "name": "stderr",
          "text": [
            "/usr/local/lib/python3.7/dist-packages/pandas/core/indexing.py:670: SettingWithCopyWarning: \n",
            "A value is trying to be set on a copy of a slice from a DataFrame\n",
            "\n",
            "See the caveats in the documentation: https://pandas.pydata.org/pandas-docs/stable/user_guide/indexing.html#returning-a-view-versus-a-copy\n",
            "  iloc._setitem_with_indexer(indexer, value)\n"
          ]
        }
      ]
    },
    {
      "cell_type": "code",
      "source": [
        "for i in range(0,len(mg['sentiment'])):\n",
        "    if mg.sentiment.iloc[i]<0:\n",
        "        mg.polarity.iloc[i]=\"Negative\"\n",
        "    elif mg.sentiment.iloc[i]==0:\n",
        "        mg.polarity.iloc[i]=\"Neutral\""
      ],
      "metadata": {
        "id": "s5llmJIFz35d",
        "colab": {
          "base_uri": "https://localhost:8080/"
        },
        "outputId": "8b805fa9-2138-43eb-c106-5223cc3004e4"
      },
      "id": "s5llmJIFz35d",
      "execution_count": null,
      "outputs": [
        {
          "output_type": "stream",
          "name": "stderr",
          "text": [
            "/usr/local/lib/python3.7/dist-packages/pandas/core/indexing.py:670: SettingWithCopyWarning: \n",
            "A value is trying to be set on a copy of a slice from a DataFrame\n",
            "\n",
            "See the caveats in the documentation: https://pandas.pydata.org/pandas-docs/stable/user_guide/indexing.html#returning-a-view-versus-a-copy\n",
            "  iloc._setitem_with_indexer(indexer, value)\n"
          ]
        }
      ]
    },
    {
      "cell_type": "code",
      "source": [
        "#dropping any null values\n",
        "mg.dropna(inplace=True)"
      ],
      "metadata": {
        "id": "nfHnyKTMz50r"
      },
      "id": "nfHnyKTMz50r",
      "execution_count": null,
      "outputs": []
    },
    {
      "cell_type": "code",
      "source": [
        "mg.head()"
      ],
      "metadata": {
        "id": "7JDLqdOWz71r",
        "colab": {
          "base_uri": "https://localhost:8080/",
          "height": 206
        },
        "outputId": "db980dde-4a6c-4d12-a099-582840cebd4d"
      },
      "id": "7JDLqdOWz71r",
      "execution_count": null,
      "outputs": [
        {
          "output_type": "execute_result",
          "data": {
            "text/html": [
              "<div>\n",
              "<style scoped>\n",
              "    .dataframe tbody tr th:only-of-type {\n",
              "        vertical-align: middle;\n",
              "    }\n",
              "\n",
              "    .dataframe tbody tr th {\n",
              "        vertical-align: top;\n",
              "    }\n",
              "\n",
              "    .dataframe thead th {\n",
              "        text-align: right;\n",
              "    }\n",
              "</style>\n",
              "<table border=\"1\" class=\"dataframe\">\n",
              "  <thead>\n",
              "    <tr style=\"text-align: right;\">\n",
              "      <th></th>\n",
              "      <th>Date</th>\n",
              "      <th>Adj Close</th>\n",
              "      <th>Volume</th>\n",
              "      <th>sentiment</th>\n",
              "      <th>polarity</th>\n",
              "    </tr>\n",
              "  </thead>\n",
              "  <tbody>\n",
              "    <tr>\n",
              "      <th>0</th>\n",
              "      <td>2016-01-04</td>\n",
              "      <td>24.251436</td>\n",
              "      <td>270597600</td>\n",
              "      <td>-0.5962</td>\n",
              "      <td>Negative</td>\n",
              "    </tr>\n",
              "    <tr>\n",
              "      <th>1</th>\n",
              "      <td>2016-01-05</td>\n",
              "      <td>23.643705</td>\n",
              "      <td>223164000</td>\n",
              "      <td>-0.2824</td>\n",
              "      <td>Negative</td>\n",
              "    </tr>\n",
              "    <tr>\n",
              "      <th>2</th>\n",
              "      <td>2016-01-06</td>\n",
              "      <td>23.181009</td>\n",
              "      <td>273829600</td>\n",
              "      <td>0.7612</td>\n",
              "      <td>Positive</td>\n",
              "    </tr>\n",
              "    <tr>\n",
              "      <th>3</th>\n",
              "      <td>2016-01-07</td>\n",
              "      <td>22.202667</td>\n",
              "      <td>324377600</td>\n",
              "      <td>0.9349</td>\n",
              "      <td>Positive</td>\n",
              "    </tr>\n",
              "    <tr>\n",
              "      <th>4</th>\n",
              "      <td>2016-01-08</td>\n",
              "      <td>22.320068</td>\n",
              "      <td>283192000</td>\n",
              "      <td>0.7236</td>\n",
              "      <td>Positive</td>\n",
              "    </tr>\n",
              "  </tbody>\n",
              "</table>\n",
              "</div>"
            ],
            "text/plain": [
              "         Date  Adj Close     Volume sentiment  polarity\n",
              "0  2016-01-04  24.251436  270597600   -0.5962  Negative\n",
              "1  2016-01-05  23.643705  223164000   -0.2824  Negative\n",
              "2  2016-01-06  23.181009  273829600    0.7612  Positive\n",
              "3  2016-01-07  22.202667  324377600    0.9349  Positive\n",
              "4  2016-01-08  22.320068  283192000    0.7236  Positive"
            ]
          },
          "metadata": {},
          "execution_count": 186
        }
      ]
    },
    {
      "cell_type": "code",
      "source": [
        "#renaming the Adj Close column to Close\n",
        "mg.rename(columns = {'Adj Close':'close'}, inplace = True)\n",
        "#Creating a new column for storing the difference in the close values\n",
        "#Get difference in close values by iterating over all the values \n",
        "mg['Stock_Change_Accounted']=''\n",
        "for i in range(1,len(mg['close'])):\n",
        "    mg.Stock_Change_Accounted.iloc[i]=mg.close.iloc[i]-mg.close.iloc[i-1]"
      ],
      "metadata": {
        "id": "vtL2Cr-S0Yag",
        "colab": {
          "base_uri": "https://localhost:8080/"
        },
        "outputId": "84cb6006-fcd2-46ac-ee69-6c72c3c03202"
      },
      "id": "vtL2Cr-S0Yag",
      "execution_count": null,
      "outputs": [
        {
          "output_type": "stream",
          "name": "stderr",
          "text": [
            "/usr/local/lib/python3.7/dist-packages/pandas/core/indexing.py:670: SettingWithCopyWarning: \n",
            "A value is trying to be set on a copy of a slice from a DataFrame\n",
            "\n",
            "See the caveats in the documentation: https://pandas.pydata.org/pandas-docs/stable/user_guide/indexing.html#returning-a-view-versus-a-copy\n",
            "  iloc._setitem_with_indexer(indexer, value)\n"
          ]
        }
      ]
    },
    {
      "cell_type": "code",
      "source": [
        "#dropping any null values\n",
        "mg.dropna(inplace=True)"
      ],
      "metadata": {
        "id": "FBXQvDL70ibK"
      },
      "id": "FBXQvDL70ibK",
      "execution_count": null,
      "outputs": []
    },
    {
      "cell_type": "code",
      "source": [
        "#Dropping the first row to make sure the Stock_Change_Accounted is not null for any row\n",
        "mg.drop(mg.index[0],inplace=True)"
      ],
      "metadata": {
        "id": "9ozcWzog0lgb"
      },
      "id": "9ozcWzog0lgb",
      "execution_count": null,
      "outputs": []
    },
    {
      "cell_type": "code",
      "source": [
        "mg.head()"
      ],
      "metadata": {
        "id": "_Px5zb750sfX",
        "colab": {
          "base_uri": "https://localhost:8080/",
          "height": 206
        },
        "outputId": "e5400a77-473a-45a8-9dc6-e2ee615c6ae1"
      },
      "id": "_Px5zb750sfX",
      "execution_count": null,
      "outputs": [
        {
          "output_type": "execute_result",
          "data": {
            "text/html": [
              "<div>\n",
              "<style scoped>\n",
              "    .dataframe tbody tr th:only-of-type {\n",
              "        vertical-align: middle;\n",
              "    }\n",
              "\n",
              "    .dataframe tbody tr th {\n",
              "        vertical-align: top;\n",
              "    }\n",
              "\n",
              "    .dataframe thead th {\n",
              "        text-align: right;\n",
              "    }\n",
              "</style>\n",
              "<table border=\"1\" class=\"dataframe\">\n",
              "  <thead>\n",
              "    <tr style=\"text-align: right;\">\n",
              "      <th></th>\n",
              "      <th>Date</th>\n",
              "      <th>close</th>\n",
              "      <th>Volume</th>\n",
              "      <th>sentiment</th>\n",
              "      <th>polarity</th>\n",
              "      <th>Stock_Change_Accounted</th>\n",
              "    </tr>\n",
              "  </thead>\n",
              "  <tbody>\n",
              "    <tr>\n",
              "      <th>1</th>\n",
              "      <td>2016-01-05</td>\n",
              "      <td>23.643705</td>\n",
              "      <td>223164000</td>\n",
              "      <td>-0.2824</td>\n",
              "      <td>Negative</td>\n",
              "      <td>-0.607731</td>\n",
              "    </tr>\n",
              "    <tr>\n",
              "      <th>2</th>\n",
              "      <td>2016-01-06</td>\n",
              "      <td>23.181009</td>\n",
              "      <td>273829600</td>\n",
              "      <td>0.7612</td>\n",
              "      <td>Positive</td>\n",
              "      <td>-0.462696</td>\n",
              "    </tr>\n",
              "    <tr>\n",
              "      <th>3</th>\n",
              "      <td>2016-01-07</td>\n",
              "      <td>22.202667</td>\n",
              "      <td>324377600</td>\n",
              "      <td>0.9349</td>\n",
              "      <td>Positive</td>\n",
              "      <td>-0.978342</td>\n",
              "    </tr>\n",
              "    <tr>\n",
              "      <th>4</th>\n",
              "      <td>2016-01-08</td>\n",
              "      <td>22.320068</td>\n",
              "      <td>283192000</td>\n",
              "      <td>0.7236</td>\n",
              "      <td>Positive</td>\n",
              "      <td>0.117401</td>\n",
              "    </tr>\n",
              "    <tr>\n",
              "      <th>5</th>\n",
              "      <td>2016-01-11</td>\n",
              "      <td>22.681482</td>\n",
              "      <td>198957600</td>\n",
              "      <td>0.1531</td>\n",
              "      <td>Positive</td>\n",
              "      <td>0.361414</td>\n",
              "    </tr>\n",
              "  </tbody>\n",
              "</table>\n",
              "</div>"
            ],
            "text/plain": [
              "         Date      close     Volume sentiment  polarity Stock_Change_Accounted\n",
              "1  2016-01-05  23.643705  223164000   -0.2824  Negative              -0.607731\n",
              "2  2016-01-06  23.181009  273829600    0.7612  Positive              -0.462696\n",
              "3  2016-01-07  22.202667  324377600    0.9349  Positive              -0.978342\n",
              "4  2016-01-08  22.320068  283192000    0.7236  Positive               0.117401\n",
              "5  2016-01-11  22.681482  198957600    0.1531  Positive               0.361414"
            ]
          },
          "metadata": {},
          "execution_count": 190
        }
      ]
    },
    {
      "cell_type": "code",
      "source": [
        "#Creating the label using numpy, if Stock_Change_Accounted is positive then label 1\n",
        "#Else Label 0\n",
        "mg['Label']=''\n",
        "for i in range(0,len(mg['Stock_Change_Accounted'])):\n",
        "    mg.Label.iloc[i]=np.where(mg.Stock_Change_Accounted.iloc[i]>0,1,0)"
      ],
      "metadata": {
        "id": "z3edazyp0uv6",
        "colab": {
          "base_uri": "https://localhost:8080/"
        },
        "outputId": "f9294738-9830-405c-b18f-379abfd3ae8a"
      },
      "id": "z3edazyp0uv6",
      "execution_count": null,
      "outputs": [
        {
          "output_type": "stream",
          "name": "stderr",
          "text": [
            "/usr/local/lib/python3.7/dist-packages/pandas/core/indexing.py:670: SettingWithCopyWarning: \n",
            "A value is trying to be set on a copy of a slice from a DataFrame\n",
            "\n",
            "See the caveats in the documentation: https://pandas.pydata.org/pandas-docs/stable/user_guide/indexing.html#returning-a-view-versus-a-copy\n",
            "  iloc._setitem_with_indexer(indexer, value)\n"
          ]
        }
      ]
    },
    {
      "cell_type": "code",
      "source": [
        "mg.head()"
      ],
      "metadata": {
        "id": "ncwWxyxV0xFW",
        "colab": {
          "base_uri": "https://localhost:8080/",
          "height": 206
        },
        "outputId": "d3ec4101-0960-4453-947d-d43387c7de7e"
      },
      "id": "ncwWxyxV0xFW",
      "execution_count": null,
      "outputs": [
        {
          "output_type": "execute_result",
          "data": {
            "text/html": [
              "<div>\n",
              "<style scoped>\n",
              "    .dataframe tbody tr th:only-of-type {\n",
              "        vertical-align: middle;\n",
              "    }\n",
              "\n",
              "    .dataframe tbody tr th {\n",
              "        vertical-align: top;\n",
              "    }\n",
              "\n",
              "    .dataframe thead th {\n",
              "        text-align: right;\n",
              "    }\n",
              "</style>\n",
              "<table border=\"1\" class=\"dataframe\">\n",
              "  <thead>\n",
              "    <tr style=\"text-align: right;\">\n",
              "      <th></th>\n",
              "      <th>Date</th>\n",
              "      <th>close</th>\n",
              "      <th>Volume</th>\n",
              "      <th>sentiment</th>\n",
              "      <th>polarity</th>\n",
              "      <th>Stock_Change_Accounted</th>\n",
              "      <th>Label</th>\n",
              "    </tr>\n",
              "  </thead>\n",
              "  <tbody>\n",
              "    <tr>\n",
              "      <th>1</th>\n",
              "      <td>2016-01-05</td>\n",
              "      <td>23.643705</td>\n",
              "      <td>223164000</td>\n",
              "      <td>-0.2824</td>\n",
              "      <td>Negative</td>\n",
              "      <td>-0.607731</td>\n",
              "      <td>0</td>\n",
              "    </tr>\n",
              "    <tr>\n",
              "      <th>2</th>\n",
              "      <td>2016-01-06</td>\n",
              "      <td>23.181009</td>\n",
              "      <td>273829600</td>\n",
              "      <td>0.7612</td>\n",
              "      <td>Positive</td>\n",
              "      <td>-0.462696</td>\n",
              "      <td>0</td>\n",
              "    </tr>\n",
              "    <tr>\n",
              "      <th>3</th>\n",
              "      <td>2016-01-07</td>\n",
              "      <td>22.202667</td>\n",
              "      <td>324377600</td>\n",
              "      <td>0.9349</td>\n",
              "      <td>Positive</td>\n",
              "      <td>-0.978342</td>\n",
              "      <td>0</td>\n",
              "    </tr>\n",
              "    <tr>\n",
              "      <th>4</th>\n",
              "      <td>2016-01-08</td>\n",
              "      <td>22.320068</td>\n",
              "      <td>283192000</td>\n",
              "      <td>0.7236</td>\n",
              "      <td>Positive</td>\n",
              "      <td>0.117401</td>\n",
              "      <td>1</td>\n",
              "    </tr>\n",
              "    <tr>\n",
              "      <th>5</th>\n",
              "      <td>2016-01-11</td>\n",
              "      <td>22.681482</td>\n",
              "      <td>198957600</td>\n",
              "      <td>0.1531</td>\n",
              "      <td>Positive</td>\n",
              "      <td>0.361414</td>\n",
              "      <td>1</td>\n",
              "    </tr>\n",
              "  </tbody>\n",
              "</table>\n",
              "</div>"
            ],
            "text/plain": [
              "         Date      close     Volume  ...  polarity Stock_Change_Accounted Label\n",
              "1  2016-01-05  23.643705  223164000  ...  Negative              -0.607731     0\n",
              "2  2016-01-06  23.181009  273829600  ...  Positive              -0.462696     0\n",
              "3  2016-01-07  22.202667  324377600  ...  Positive              -0.978342     0\n",
              "4  2016-01-08  22.320068  283192000  ...  Positive               0.117401     1\n",
              "5  2016-01-11  22.681482  198957600  ...  Positive               0.361414     1\n",
              "\n",
              "[5 rows x 7 columns]"
            ]
          },
          "metadata": {},
          "execution_count": 192
        }
      ]
    },
    {
      "cell_type": "code",
      "source": [
        "#Since we won't be needing Stock_Change_Accounted anymore dorp the column\n",
        "mg=mg.drop('Stock_Change_Accounted',1)"
      ],
      "metadata": {
        "id": "TStdPuFE0zrz"
      },
      "id": "TStdPuFE0zrz",
      "execution_count": null,
      "outputs": []
    },
    {
      "cell_type": "code",
      "source": [
        "#creating a new dataframe by copying the above dataframe\n",
        "dlf1=mg.copy()"
      ],
      "metadata": {
        "id": "USFwilu10-fV"
      },
      "id": "USFwilu10-fV",
      "execution_count": null,
      "outputs": []
    },
    {
      "cell_type": "code",
      "source": [
        "#As we have a categorical variable polarity, we convert it into a vector using pandad get_dummies"
      ],
      "metadata": {
        "id": "b-621zwS1ARk"
      },
      "id": "b-621zwS1ARk",
      "execution_count": null,
      "outputs": []
    },
    {
      "cell_type": "code",
      "source": [
        "dlf1=pd.get_dummies(dlf1,columns=['polarity'])"
      ],
      "metadata": {
        "id": "A1aijukL1B0i"
      },
      "id": "A1aijukL1B0i",
      "execution_count": null,
      "outputs": []
    },
    {
      "cell_type": "code",
      "source": [
        "dlf1.head()"
      ],
      "metadata": {
        "id": "moWaOU6M1DcE",
        "colab": {
          "base_uri": "https://localhost:8080/",
          "height": 206
        },
        "outputId": "cbba68c8-19af-4600-e288-5a551dfd3f7c"
      },
      "id": "moWaOU6M1DcE",
      "execution_count": null,
      "outputs": [
        {
          "output_type": "execute_result",
          "data": {
            "text/html": [
              "<div>\n",
              "<style scoped>\n",
              "    .dataframe tbody tr th:only-of-type {\n",
              "        vertical-align: middle;\n",
              "    }\n",
              "\n",
              "    .dataframe tbody tr th {\n",
              "        vertical-align: top;\n",
              "    }\n",
              "\n",
              "    .dataframe thead th {\n",
              "        text-align: right;\n",
              "    }\n",
              "</style>\n",
              "<table border=\"1\" class=\"dataframe\">\n",
              "  <thead>\n",
              "    <tr style=\"text-align: right;\">\n",
              "      <th></th>\n",
              "      <th>Date</th>\n",
              "      <th>close</th>\n",
              "      <th>Volume</th>\n",
              "      <th>sentiment</th>\n",
              "      <th>Label</th>\n",
              "      <th>polarity_Negative</th>\n",
              "      <th>polarity_Neutral</th>\n",
              "      <th>polarity_Positive</th>\n",
              "    </tr>\n",
              "  </thead>\n",
              "  <tbody>\n",
              "    <tr>\n",
              "      <th>1</th>\n",
              "      <td>2016-01-05</td>\n",
              "      <td>23.643705</td>\n",
              "      <td>223164000</td>\n",
              "      <td>-0.2824</td>\n",
              "      <td>0</td>\n",
              "      <td>1</td>\n",
              "      <td>0</td>\n",
              "      <td>0</td>\n",
              "    </tr>\n",
              "    <tr>\n",
              "      <th>2</th>\n",
              "      <td>2016-01-06</td>\n",
              "      <td>23.181009</td>\n",
              "      <td>273829600</td>\n",
              "      <td>0.7612</td>\n",
              "      <td>0</td>\n",
              "      <td>0</td>\n",
              "      <td>0</td>\n",
              "      <td>1</td>\n",
              "    </tr>\n",
              "    <tr>\n",
              "      <th>3</th>\n",
              "      <td>2016-01-07</td>\n",
              "      <td>22.202667</td>\n",
              "      <td>324377600</td>\n",
              "      <td>0.9349</td>\n",
              "      <td>0</td>\n",
              "      <td>0</td>\n",
              "      <td>0</td>\n",
              "      <td>1</td>\n",
              "    </tr>\n",
              "    <tr>\n",
              "      <th>4</th>\n",
              "      <td>2016-01-08</td>\n",
              "      <td>22.320068</td>\n",
              "      <td>283192000</td>\n",
              "      <td>0.7236</td>\n",
              "      <td>1</td>\n",
              "      <td>0</td>\n",
              "      <td>0</td>\n",
              "      <td>1</td>\n",
              "    </tr>\n",
              "    <tr>\n",
              "      <th>5</th>\n",
              "      <td>2016-01-11</td>\n",
              "      <td>22.681482</td>\n",
              "      <td>198957600</td>\n",
              "      <td>0.1531</td>\n",
              "      <td>1</td>\n",
              "      <td>0</td>\n",
              "      <td>0</td>\n",
              "      <td>1</td>\n",
              "    </tr>\n",
              "  </tbody>\n",
              "</table>\n",
              "</div>"
            ],
            "text/plain": [
              "         Date      close  ...  polarity_Neutral polarity_Positive\n",
              "1  2016-01-05  23.643705  ...                 0                 0\n",
              "2  2016-01-06  23.181009  ...                 0                 1\n",
              "3  2016-01-07  22.202667  ...                 0                 1\n",
              "4  2016-01-08  22.320068  ...                 0                 1\n",
              "5  2016-01-11  22.681482  ...                 0                 1\n",
              "\n",
              "[5 rows x 8 columns]"
            ]
          },
          "metadata": {},
          "execution_count": 197
        }
      ]
    },
    {
      "cell_type": "code",
      "source": [
        "#setting the date as index in the dataframe\n",
        "dlf1.set_index('Date',inplace=True)"
      ],
      "metadata": {
        "id": "QkxcOpDu1FFY"
      },
      "id": "QkxcOpDu1FFY",
      "execution_count": null,
      "outputs": []
    },
    {
      "cell_type": "code",
      "source": [
        "dlf1.head()"
      ],
      "metadata": {
        "id": "_iZk42lH1HR0",
        "colab": {
          "base_uri": "https://localhost:8080/",
          "height": 238
        },
        "outputId": "6a3188e7-cde0-4ec5-a098-ba39d72dee70"
      },
      "id": "_iZk42lH1HR0",
      "execution_count": null,
      "outputs": [
        {
          "output_type": "execute_result",
          "data": {
            "text/html": [
              "<div>\n",
              "<style scoped>\n",
              "    .dataframe tbody tr th:only-of-type {\n",
              "        vertical-align: middle;\n",
              "    }\n",
              "\n",
              "    .dataframe tbody tr th {\n",
              "        vertical-align: top;\n",
              "    }\n",
              "\n",
              "    .dataframe thead th {\n",
              "        text-align: right;\n",
              "    }\n",
              "</style>\n",
              "<table border=\"1\" class=\"dataframe\">\n",
              "  <thead>\n",
              "    <tr style=\"text-align: right;\">\n",
              "      <th></th>\n",
              "      <th>close</th>\n",
              "      <th>Volume</th>\n",
              "      <th>sentiment</th>\n",
              "      <th>Label</th>\n",
              "      <th>polarity_Negative</th>\n",
              "      <th>polarity_Neutral</th>\n",
              "      <th>polarity_Positive</th>\n",
              "    </tr>\n",
              "    <tr>\n",
              "      <th>Date</th>\n",
              "      <th></th>\n",
              "      <th></th>\n",
              "      <th></th>\n",
              "      <th></th>\n",
              "      <th></th>\n",
              "      <th></th>\n",
              "      <th></th>\n",
              "    </tr>\n",
              "  </thead>\n",
              "  <tbody>\n",
              "    <tr>\n",
              "      <th>2016-01-05</th>\n",
              "      <td>23.643705</td>\n",
              "      <td>223164000</td>\n",
              "      <td>-0.2824</td>\n",
              "      <td>0</td>\n",
              "      <td>1</td>\n",
              "      <td>0</td>\n",
              "      <td>0</td>\n",
              "    </tr>\n",
              "    <tr>\n",
              "      <th>2016-01-06</th>\n",
              "      <td>23.181009</td>\n",
              "      <td>273829600</td>\n",
              "      <td>0.7612</td>\n",
              "      <td>0</td>\n",
              "      <td>0</td>\n",
              "      <td>0</td>\n",
              "      <td>1</td>\n",
              "    </tr>\n",
              "    <tr>\n",
              "      <th>2016-01-07</th>\n",
              "      <td>22.202667</td>\n",
              "      <td>324377600</td>\n",
              "      <td>0.9349</td>\n",
              "      <td>0</td>\n",
              "      <td>0</td>\n",
              "      <td>0</td>\n",
              "      <td>1</td>\n",
              "    </tr>\n",
              "    <tr>\n",
              "      <th>2016-01-08</th>\n",
              "      <td>22.320068</td>\n",
              "      <td>283192000</td>\n",
              "      <td>0.7236</td>\n",
              "      <td>1</td>\n",
              "      <td>0</td>\n",
              "      <td>0</td>\n",
              "      <td>1</td>\n",
              "    </tr>\n",
              "    <tr>\n",
              "      <th>2016-01-11</th>\n",
              "      <td>22.681482</td>\n",
              "      <td>198957600</td>\n",
              "      <td>0.1531</td>\n",
              "      <td>1</td>\n",
              "      <td>0</td>\n",
              "      <td>0</td>\n",
              "      <td>1</td>\n",
              "    </tr>\n",
              "  </tbody>\n",
              "</table>\n",
              "</div>"
            ],
            "text/plain": [
              "                close     Volume  ... polarity_Neutral polarity_Positive\n",
              "Date                              ...                                   \n",
              "2016-01-05  23.643705  223164000  ...                0                 0\n",
              "2016-01-06  23.181009  273829600  ...                0                 1\n",
              "2016-01-07  22.202667  324377600  ...                0                 1\n",
              "2016-01-08  22.320068  283192000  ...                0                 1\n",
              "2016-01-11  22.681482  198957600  ...                0                 1\n",
              "\n",
              "[5 rows x 7 columns]"
            ]
          },
          "metadata": {},
          "execution_count": 199
        }
      ]
    },
    {
      "cell_type": "code",
      "source": [
        "dlf1[\"Label\"]=dlf1[\"Label\"].astype(int)"
      ],
      "metadata": {
        "id": "Hd6GHJP91LA7"
      },
      "id": "Hd6GHJP91LA7",
      "execution_count": null,
      "outputs": []
    },
    {
      "cell_type": "code",
      "source": [
        "#Creating X features and y target from the Dataframe\n",
        "#LSTM uses a window of previous values to prevent the current value, so we store a window of values in all the features and target\n",
        "feature1=0\n",
        "feature2=2\n",
        "feature3=4\n",
        "feature4=5\n",
        "feature5=6\n",
        "feature6=3\n",
        "target1=0"
      ],
      "metadata": {
        "id": "1RQwyTdd1Nep"
      },
      "id": "1RQwyTdd1Nep",
      "execution_count": null,
      "outputs": []
    },
    {
      "cell_type": "code",
      "source": [
        "#we define window size that we use\n",
        "wind=3"
      ],
      "metadata": {
        "id": "5iV72kGG1PLI"
      },
      "id": "5iV72kGG1PLI",
      "execution_count": null,
      "outputs": []
    },
    {
      "cell_type": "code",
      "source": [
        "#we create new lists for all the features and target to store all the values using the window\n",
        "Xclose=[]\n",
        "XSentiment=[]\n",
        "XLabel=[]\n",
        "XPolarityNeg=[]\n",
        "XPolarityNeu=[]\n",
        "XPolarityPos=[]\n",
        "y1=[]"
      ],
      "metadata": {
        "id": "B7y11Nhb1Q_v"
      },
      "id": "B7y11Nhb1Q_v",
      "execution_count": null,
      "outputs": []
    },
    {
      "cell_type": "code",
      "source": [
        "#Now we iterate through the dataframe and extract values from it\n",
        "for i in range(len(dlf1)-wind):\n",
        "    adjcl=dlf1.iloc[i:(i+wind),0]\n",
        "    tweet_XSentiment=dlf1.iloc[i:(i+wind),2]\n",
        "    tweet_XPolarityNeg=dlf1.iloc[i:(i+wind),4]\n",
        "    tweet_XPolarityPos=dlf1.iloc[i:(i+wind),5]\n",
        "    tweet_XPolarityNeu=dlf1.iloc[i:(i+wind),6]\n",
        "    tweet_label=dlf1.iloc[i:(i+wind),3]\n",
        "    target=dlf1.iloc[(i+wind),3]\n",
        "    #Adding values into the list\n",
        "    Xclose.append(adjcl)\n",
        "    XSentiment.append(tweet_XSentiment)\n",
        "    XPolarityNeg.append(tweet_XPolarityNeg)\n",
        "    XPolarityNeu.append(tweet_XPolarityNeu)\n",
        "    XPolarityPos.append(tweet_XPolarityPos)\n",
        "    XLabel.append(tweet_label)\n",
        "    y1.append(target)"
      ],
      "metadata": {
        "id": "6IuzXBJp1YIW"
      },
      "id": "6IuzXBJp1YIW",
      "execution_count": null,
      "outputs": []
    },
    {
      "cell_type": "code",
      "source": [
        "#Now, we get the Feature and target vectors\n",
        "X1=np.hstack((Xclose,XSentiment,XLabel,XPolarityNeg,XPolarityNeu,XPolarityPos))\n",
        "y=np.array(y1).reshape(-1,1)"
      ],
      "metadata": {
        "id": "hSN-IJTv1azb"
      },
      "id": "hSN-IJTv1azb",
      "execution_count": null,
      "outputs": []
    },
    {
      "cell_type": "code",
      "source": [
        "X1"
      ],
      "metadata": {
        "id": "1aTNqWBU1cbi",
        "colab": {
          "base_uri": "https://localhost:8080/"
        },
        "outputId": "7e040baf-c8f4-4fc4-9a77-f4d206e68629"
      },
      "id": "1aTNqWBU1cbi",
      "execution_count": null,
      "outputs": [
        {
          "output_type": "execute_result",
          "data": {
            "text/plain": [
              "array([[23.643704999999997, 23.181009, 22.202667, ..., 0, 0, 0],\n",
              "       [23.181009, 22.202667, 22.320068, ..., 0, 0, 0],\n",
              "       [22.202667, 22.320068, 22.681482, ..., 0, 0, 0],\n",
              "       ...,\n",
              "       [161.020004, 161.41000400000001, 161.940002, ..., 0, 0, 0],\n",
              "       [161.41000400000001, 161.940002, 156.809998, ..., 0, 0, 0],\n",
              "       [161.940002, 156.809998, 160.240005, ..., 0, 0, 0]], dtype=object)"
            ]
          },
          "metadata": {},
          "execution_count": 206
        }
      ]
    },
    {
      "cell_type": "code",
      "source": [
        "#Now we define split factor to divide the training and testing data\n",
        "#Here, we are taking 80% of the data as training\n",
        "Xsplitfact=int(len(X1)*0.8)"
      ],
      "metadata": {
        "id": "NrH_jTaq1eYh"
      },
      "id": "NrH_jTaq1eYh",
      "execution_count": null,
      "outputs": []
    },
    {
      "cell_type": "code",
      "source": [
        "#we define the Xtrainig \n",
        "Xtraining=X1[:Xsplitfact]"
      ],
      "metadata": {
        "id": "8nrRrBqJ1gP5"
      },
      "id": "8nrRrBqJ1gP5",
      "execution_count": null,
      "outputs": []
    },
    {
      "cell_type": "code",
      "source": [
        "#we define the Xtesting \n",
        "Xtesting=X1[Xsplitfact:]"
      ],
      "metadata": {
        "id": "hCKGqw6k1iGC"
      },
      "id": "hCKGqw6k1iGC",
      "execution_count": null,
      "outputs": []
    },
    {
      "cell_type": "code",
      "source": [
        "#we define the Ytrainig \n",
        "Ytraining=y[:Xsplitfact]"
      ],
      "metadata": {
        "id": "TIDehgEP1j-A"
      },
      "id": "TIDehgEP1j-A",
      "execution_count": null,
      "outputs": []
    },
    {
      "cell_type": "code",
      "source": [
        "#we define the Ytesting \n",
        "Ytesting=y[Xsplitfact:]"
      ],
      "metadata": {
        "id": "f29WHP-F1lt8"
      },
      "id": "f29WHP-F1lt8",
      "execution_count": null,
      "outputs": []
    },
    {
      "cell_type": "code",
      "source": [
        "#Now we fit the Xtrainig in the min max scaler\n",
        "#we scale the data as we have a lot values with varying distributions\n",
        "X_train_Scaler=MinMaxScaler().fit(Xtraining)"
      ],
      "metadata": {
        "id": "i0jZW0z01noq"
      },
      "id": "i0jZW0z01noq",
      "execution_count": null,
      "outputs": []
    },
    {
      "cell_type": "code",
      "source": [
        "#Now we transform the Fitted data\n",
        "X_train_scaleddata=X_train_Scaler.transform(Xtraining)"
      ],
      "metadata": {
        "id": "AAwabzhl1p9r"
      },
      "id": "AAwabzhl1p9r",
      "execution_count": null,
      "outputs": []
    },
    {
      "cell_type": "code",
      "source": [
        "#Now we fit the Xtesting in the min max scaler\n",
        "#we scale the data as we have a lot values with varying distributions\n",
        "X_test_Scaler=MinMaxScaler().fit(Xtesting)"
      ],
      "metadata": {
        "id": "MfmlNg0b1r47"
      },
      "id": "MfmlNg0b1r47",
      "execution_count": null,
      "outputs": []
    },
    {
      "cell_type": "code",
      "source": [
        "#Now we transform the Fitted data\n",
        "X_test_scaleddata=X_test_Scaler.transform(Xtesting)"
      ],
      "metadata": {
        "id": "574W5auD12qJ"
      },
      "id": "574W5auD12qJ",
      "execution_count": null,
      "outputs": []
    },
    {
      "cell_type": "code",
      "source": [
        "#Now we again reshape the scaled data for X features\n",
        "X_test_scaleddata.reshape(X_test_scaleddata.shape[0],X_test_scaleddata.shape[1],1)"
      ],
      "metadata": {
        "id": "_O0M8-wj15UB",
        "colab": {
          "base_uri": "https://localhost:8080/"
        },
        "outputId": "3436f040-b9d6-4b0a-8fd7-c9af44d42ed1"
      },
      "id": "_O0M8-wj15UB",
      "execution_count": null,
      "outputs": [
        {
          "output_type": "execute_result",
          "data": {
            "text/plain": [
              "array([[[0.08360169],\n",
              "        [0.        ],\n",
              "        [0.        ],\n",
              "        ...,\n",
              "        [0.        ],\n",
              "        [0.        ],\n",
              "        [0.        ]],\n",
              "\n",
              "       [[0.        ],\n",
              "        [0.01960816],\n",
              "        [0.07381882],\n",
              "        ...,\n",
              "        [0.        ],\n",
              "        [0.        ],\n",
              "        [0.        ]],\n",
              "\n",
              "       [[0.01960816],\n",
              "        [0.09197953],\n",
              "        [0.12254654],\n",
              "        ...,\n",
              "        [0.        ],\n",
              "        [0.        ],\n",
              "        [0.        ]],\n",
              "\n",
              "       ...,\n",
              "\n",
              "       [[0.98347102],\n",
              "        [0.99047788],\n",
              "        [1.        ],\n",
              "        ...,\n",
              "        [0.        ],\n",
              "        [0.        ],\n",
              "        [0.        ]],\n",
              "\n",
              "       [[0.99047788],\n",
              "        [1.        ],\n",
              "        [0.90598931],\n",
              "        ...,\n",
              "        [0.        ],\n",
              "        [0.        ],\n",
              "        [0.        ]],\n",
              "\n",
              "       [[1.        ],\n",
              "        [0.90783269],\n",
              "        [0.96884644],\n",
              "        ...,\n",
              "        [0.        ],\n",
              "        [0.        ],\n",
              "        [0.        ]]])"
            ]
          },
          "metadata": {},
          "execution_count": 216
        }
      ]
    },
    {
      "cell_type": "code",
      "source": [
        "#Now we again reshape the scaled data for X features\n",
        "X_train_scaleddata.reshape(X_train_scaleddata.shape[0],X_train_scaleddata.shape[1],1)"
      ],
      "metadata": {
        "id": "CN_PZY5U1_fp",
        "colab": {
          "base_uri": "https://localhost:8080/"
        },
        "outputId": "b9dc62ad-9144-446d-e719-98a9a599d25d"
      },
      "id": "CN_PZY5U1_fp",
      "execution_count": null,
      "outputs": [
        {
          "output_type": "execute_result",
          "data": {
            "text/plain": [
              "array([[[0.02326131],\n",
              "        [0.01913348],\n",
              "        [0.01040545],\n",
              "        ...,\n",
              "        [0.        ],\n",
              "        [0.        ],\n",
              "        [0.        ]],\n",
              "\n",
              "       [[0.01913348],\n",
              "        [0.01040545],\n",
              "        [0.01145281],\n",
              "        ...,\n",
              "        [0.        ],\n",
              "        [0.        ],\n",
              "        [0.        ]],\n",
              "\n",
              "       [[0.01040545],\n",
              "        [0.01145281],\n",
              "        [0.01467707],\n",
              "        ...,\n",
              "        [0.        ],\n",
              "        [0.        ],\n",
              "        [0.        ]],\n",
              "\n",
              "       ...,\n",
              "\n",
              "       [[0.78898453],\n",
              "        [0.75800498],\n",
              "        [0.7866833 ],\n",
              "        ...,\n",
              "        [0.        ],\n",
              "        [0.        ],\n",
              "        [0.        ]],\n",
              "\n",
              "       [[0.75800498],\n",
              "        [0.7866833 ],\n",
              "        [0.80199608],\n",
              "        ...,\n",
              "        [0.        ],\n",
              "        [0.        ],\n",
              "        [0.        ]],\n",
              "\n",
              "       [[0.7866833 ],\n",
              "        [0.80199608],\n",
              "        [0.76048332],\n",
              "        ...,\n",
              "        [0.        ],\n",
              "        [0.        ],\n",
              "        [0.        ]]])"
            ]
          },
          "metadata": {},
          "execution_count": 217
        }
      ]
    },
    {
      "cell_type": "code",
      "source": [
        "#Now we define a sequential LSTM model\n",
        "LSTMmodel=Sequential()\n",
        "#we are going to use a dropout fraction of 0.2, i.e. 20 units are dropped randomly in every epoch\n",
        "#we define the dimensionality of output space to 9\n",
        "\n",
        "#Now, we add in the first layer into the LSTM Network\n",
        "LSTMmodel.add(LSTM(units=9,return_sequences=True,input_shape=(X_train_scaleddata.shape[1],1)))\n",
        "LSTMmodel.add(Dropout(0.2))\n",
        "\n",
        "#Now we add the 2nd layer \n",
        "LSTMmodel.add(LSTM(units=9,return_sequences=True))\n",
        "LSTMmodel.add(Dropout(0.2))\n",
        "\n",
        "#Now we define the 3rd layer\n",
        "LSTMmodel.add(LSTM(units=9,return_sequences=True))\n",
        "LSTMmodel.add(Dropout(0.2))\n",
        "\n",
        "#Now we define the final layer\n",
        "LSTMmodel.add(LSTM(units=9))\n",
        "LSTMmodel.add(Dropout(0.2))\n",
        "\n",
        "#Now we add the ouput layer\n",
        "LSTMmodel.add(Dense(1))"
      ],
      "metadata": {
        "id": "Kx85SaWO2B58"
      },
      "id": "Kx85SaWO2B58",
      "execution_count": null,
      "outputs": []
    },
    {
      "cell_type": "code",
      "source": [
        "#we compile the LSTM model using adam optimizer and calculate loss using mean sqaure error\n",
        "LSTMmodel.compile(\"adam\",\"mse\")"
      ],
      "metadata": {
        "id": "5Dd4QQNw2ODw"
      },
      "id": "5Dd4QQNw2ODw",
      "execution_count": null,
      "outputs": []
    },
    {
      "cell_type": "code",
      "source": [
        "#We can get a summary of the LSTM model defined\n",
        "LSTMmodel.summary()"
      ],
      "metadata": {
        "id": "95z0pTOp2QJ7",
        "colab": {
          "base_uri": "https://localhost:8080/"
        },
        "outputId": "b6638a44-a7a0-41ae-c551-579eb64b59e7"
      },
      "id": "95z0pTOp2QJ7",
      "execution_count": null,
      "outputs": [
        {
          "output_type": "stream",
          "name": "stdout",
          "text": [
            "Model: \"sequential_1\"\n",
            "_________________________________________________________________\n",
            " Layer (type)                Output Shape              Param #   \n",
            "=================================================================\n",
            " lstm_4 (LSTM)               (None, 18, 9)             396       \n",
            "                                                                 \n",
            " dropout_4 (Dropout)         (None, 18, 9)             0         \n",
            "                                                                 \n",
            " lstm_5 (LSTM)               (None, 18, 9)             684       \n",
            "                                                                 \n",
            " dropout_5 (Dropout)         (None, 18, 9)             0         \n",
            "                                                                 \n",
            " lstm_6 (LSTM)               (None, 18, 9)             684       \n",
            "                                                                 \n",
            " dropout_6 (Dropout)         (None, 18, 9)             0         \n",
            "                                                                 \n",
            " lstm_7 (LSTM)               (None, 9)                 684       \n",
            "                                                                 \n",
            " dropout_7 (Dropout)         (None, 9)                 0         \n",
            "                                                                 \n",
            " dense_1 (Dense)             (None, 1)                 10        \n",
            "                                                                 \n",
            "=================================================================\n",
            "Total params: 2,458\n",
            "Trainable params: 2,458\n",
            "Non-trainable params: 0\n",
            "_________________________________________________________________\n"
          ]
        }
      ]
    },
    {
      "cell_type": "code",
      "source": [
        "#Now we fit our training data into the model where we define the number of epochs to 20 \n",
        "LSTMmodel.fit(X_train_scaleddata,Ytraining,epochs=80,verbose=1)"
      ],
      "metadata": {
        "id": "Gx_dhYhc2SO3",
        "colab": {
          "base_uri": "https://localhost:8080/"
        },
        "outputId": "1a3c8830-48d5-4fec-aa95-db126d997ba7"
      },
      "id": "Gx_dhYhc2SO3",
      "execution_count": null,
      "outputs": [
        {
          "output_type": "stream",
          "name": "stdout",
          "text": [
            "Epoch 1/80\n",
            "37/37 [==============================] - 9s 34ms/step - loss: 0.3645\n",
            "Epoch 2/80\n",
            "37/37 [==============================] - 1s 37ms/step - loss: 0.2678\n",
            "Epoch 3/80\n",
            "37/37 [==============================] - 1s 38ms/step - loss: 0.2693\n",
            "Epoch 4/80\n",
            "37/37 [==============================] - 1s 37ms/step - loss: 0.2632\n",
            "Epoch 5/80\n",
            "37/37 [==============================] - 1s 37ms/step - loss: 0.2604\n",
            "Epoch 6/80\n",
            "37/37 [==============================] - 2s 46ms/step - loss: 0.2603\n",
            "Epoch 7/80\n",
            "37/37 [==============================] - 2s 47ms/step - loss: 0.2602\n",
            "Epoch 8/80\n",
            "37/37 [==============================] - 1s 40ms/step - loss: 0.2582\n",
            "Epoch 9/80\n",
            "37/37 [==============================] - 1s 33ms/step - loss: 0.2540\n",
            "Epoch 10/80\n",
            "37/37 [==============================] - 1s 33ms/step - loss: 0.2613\n",
            "Epoch 11/80\n",
            "37/37 [==============================] - 1s 34ms/step - loss: 0.2560\n",
            "Epoch 12/80\n",
            "37/37 [==============================] - 1s 35ms/step - loss: 0.2561\n",
            "Epoch 13/80\n",
            "37/37 [==============================] - 1s 33ms/step - loss: 0.2557\n",
            "Epoch 14/80\n",
            "37/37 [==============================] - 1s 34ms/step - loss: 0.2569\n",
            "Epoch 15/80\n",
            "37/37 [==============================] - 1s 37ms/step - loss: 0.2554\n",
            "Epoch 16/80\n",
            "37/37 [==============================] - 2s 42ms/step - loss: 0.2561\n",
            "Epoch 17/80\n",
            "37/37 [==============================] - 2s 45ms/step - loss: 0.2567\n",
            "Epoch 18/80\n",
            "37/37 [==============================] - 1s 35ms/step - loss: 0.2576\n",
            "Epoch 19/80\n",
            "37/37 [==============================] - 1s 33ms/step - loss: 0.2554\n",
            "Epoch 20/80\n",
            "37/37 [==============================] - 1s 32ms/step - loss: 0.2583\n",
            "Epoch 21/80\n",
            "37/37 [==============================] - 1s 35ms/step - loss: 0.2533\n",
            "Epoch 22/80\n",
            "37/37 [==============================] - 1s 34ms/step - loss: 0.2530\n",
            "Epoch 23/80\n",
            "37/37 [==============================] - 1s 34ms/step - loss: 0.2546\n",
            "Epoch 24/80\n",
            "37/37 [==============================] - 1s 35ms/step - loss: 0.2534\n",
            "Epoch 25/80\n",
            "37/37 [==============================] - 1s 33ms/step - loss: 0.2540\n",
            "Epoch 26/80\n",
            "37/37 [==============================] - 1s 35ms/step - loss: 0.2509\n",
            "Epoch 27/80\n",
            "37/37 [==============================] - 1s 38ms/step - loss: 0.2540\n",
            "Epoch 28/80\n",
            "37/37 [==============================] - 2s 46ms/step - loss: 0.2564\n",
            "Epoch 29/80\n",
            "37/37 [==============================] - 2s 42ms/step - loss: 0.2508\n",
            "Epoch 30/80\n",
            "37/37 [==============================] - 1s 34ms/step - loss: 0.2549\n",
            "Epoch 31/80\n",
            "37/37 [==============================] - 1s 34ms/step - loss: 0.2530\n",
            "Epoch 32/80\n",
            "37/37 [==============================] - 1s 33ms/step - loss: 0.2519\n",
            "Epoch 33/80\n",
            "37/37 [==============================] - 1s 36ms/step - loss: 0.2559\n",
            "Epoch 34/80\n",
            "37/37 [==============================] - 1s 34ms/step - loss: 0.2523\n",
            "Epoch 35/80\n",
            "37/37 [==============================] - 1s 35ms/step - loss: 0.2537\n",
            "Epoch 36/80\n",
            "37/37 [==============================] - 1s 34ms/step - loss: 0.2545\n",
            "Epoch 37/80\n",
            "37/37 [==============================] - 1s 34ms/step - loss: 0.2529\n",
            "Epoch 38/80\n",
            "37/37 [==============================] - 1s 35ms/step - loss: 0.2551\n",
            "Epoch 39/80\n",
            "37/37 [==============================] - 1s 35ms/step - loss: 0.2514\n",
            "Epoch 40/80\n",
            "37/37 [==============================] - 1s 35ms/step - loss: 0.2526\n",
            "Epoch 41/80\n",
            "37/37 [==============================] - 1s 40ms/step - loss: 0.2533\n",
            "Epoch 42/80\n",
            "37/37 [==============================] - 2s 50ms/step - loss: 0.2501\n",
            "Epoch 43/80\n",
            "37/37 [==============================] - 1s 36ms/step - loss: 0.2533\n",
            "Epoch 44/80\n",
            "37/37 [==============================] - 1s 33ms/step - loss: 0.2514\n",
            "Epoch 45/80\n",
            "37/37 [==============================] - 1s 35ms/step - loss: 0.2506\n",
            "Epoch 46/80\n",
            "37/37 [==============================] - 1s 33ms/step - loss: 0.2529\n",
            "Epoch 47/80\n",
            "37/37 [==============================] - 1s 34ms/step - loss: 0.2539\n",
            "Epoch 48/80\n",
            "37/37 [==============================] - 1s 34ms/step - loss: 0.2513\n",
            "Epoch 49/80\n",
            "37/37 [==============================] - 1s 35ms/step - loss: 0.2532\n",
            "Epoch 50/80\n",
            "37/37 [==============================] - 1s 33ms/step - loss: 0.2529\n",
            "Epoch 51/80\n",
            "37/37 [==============================] - 1s 33ms/step - loss: 0.2511\n",
            "Epoch 52/80\n",
            "37/37 [==============================] - 1s 34ms/step - loss: 0.2516\n",
            "Epoch 53/80\n",
            "37/37 [==============================] - 1s 33ms/step - loss: 0.2517\n",
            "Epoch 54/80\n",
            "37/37 [==============================] - 1s 35ms/step - loss: 0.2519\n",
            "Epoch 55/80\n",
            "37/37 [==============================] - 1s 35ms/step - loss: 0.2523\n",
            "Epoch 56/80\n",
            "37/37 [==============================] - 2s 44ms/step - loss: 0.2499\n",
            "Epoch 57/80\n",
            "37/37 [==============================] - 2s 50ms/step - loss: 0.2525\n",
            "Epoch 58/80\n",
            "37/37 [==============================] - 1s 39ms/step - loss: 0.2506\n",
            "Epoch 59/80\n",
            "37/37 [==============================] - 1s 36ms/step - loss: 0.2484\n",
            "Epoch 60/80\n",
            "37/37 [==============================] - 1s 36ms/step - loss: 0.2506\n",
            "Epoch 61/80\n",
            "37/37 [==============================] - 1s 37ms/step - loss: 0.2520\n",
            "Epoch 62/80\n",
            "37/37 [==============================] - 1s 36ms/step - loss: 0.2518\n",
            "Epoch 63/80\n",
            "37/37 [==============================] - 1s 34ms/step - loss: 0.2501\n",
            "Epoch 64/80\n",
            "37/37 [==============================] - 1s 35ms/step - loss: 0.2535\n",
            "Epoch 65/80\n",
            "37/37 [==============================] - 1s 33ms/step - loss: 0.2505\n",
            "Epoch 66/80\n",
            "37/37 [==============================] - 1s 36ms/step - loss: 0.2480\n",
            "Epoch 67/80\n",
            "37/37 [==============================] - 1s 40ms/step - loss: 0.2488\n",
            "Epoch 68/80\n",
            "37/37 [==============================] - 2s 47ms/step - loss: 0.2506\n",
            "Epoch 69/80\n",
            "37/37 [==============================] - 2s 41ms/step - loss: 0.2517\n",
            "Epoch 70/80\n",
            "37/37 [==============================] - 1s 35ms/step - loss: 0.2499\n",
            "Epoch 71/80\n",
            "37/37 [==============================] - 1s 35ms/step - loss: 0.2496\n",
            "Epoch 72/80\n",
            "37/37 [==============================] - 1s 34ms/step - loss: 0.2492\n",
            "Epoch 73/80\n",
            "37/37 [==============================] - 1s 35ms/step - loss: 0.2513\n",
            "Epoch 74/80\n",
            "37/37 [==============================] - 1s 34ms/step - loss: 0.2533\n",
            "Epoch 75/80\n",
            "37/37 [==============================] - 1s 35ms/step - loss: 0.2498\n",
            "Epoch 76/80\n",
            "37/37 [==============================] - 1s 34ms/step - loss: 0.2484\n",
            "Epoch 77/80\n",
            "37/37 [==============================] - 1s 35ms/step - loss: 0.2511\n",
            "Epoch 78/80\n",
            "37/37 [==============================] - 1s 36ms/step - loss: 0.2511\n",
            "Epoch 79/80\n",
            "37/37 [==============================] - 1s 40ms/step - loss: 0.2501\n",
            "Epoch 80/80\n",
            "37/37 [==============================] - 2s 45ms/step - loss: 0.2511\n"
          ]
        },
        {
          "output_type": "execute_result",
          "data": {
            "text/plain": [
              "<keras.callbacks.History at 0x7f5040491bd0>"
            ]
          },
          "metadata": {},
          "execution_count": 221
        }
      ]
    },
    {
      "cell_type": "code",
      "source": [
        "#Now get the real stock prices\n",
        "Real_prices=Ytesting"
      ],
      "metadata": {
        "id": "8QeX6zgq2bQq"
      },
      "id": "8QeX6zgq2bQq",
      "execution_count": null,
      "outputs": []
    },
    {
      "cell_type": "code",
      "source": [
        "Real_prices"
      ],
      "metadata": {
        "id": "8bGvPLou2eKJ",
        "colab": {
          "base_uri": "https://localhost:8080/"
        },
        "outputId": "0b874769-b2bf-4759-a8bd-eb3f36e90735"
      },
      "id": "8bGvPLou2eKJ",
      "execution_count": null,
      "outputs": [
        {
          "output_type": "execute_result",
          "data": {
            "text/plain": [
              "array([[1],\n",
              "       [1],\n",
              "       [0],\n",
              "       [1],\n",
              "       [1],\n",
              "       [0],\n",
              "       [1],\n",
              "       [0],\n",
              "       [1],\n",
              "       [0],\n",
              "       [1],\n",
              "       [1],\n",
              "       [0],\n",
              "       [1],\n",
              "       [0],\n",
              "       [0],\n",
              "       [0],\n",
              "       [1],\n",
              "       [0],\n",
              "       [0],\n",
              "       [0],\n",
              "       [1],\n",
              "       [1],\n",
              "       [0],\n",
              "       [1],\n",
              "       [0],\n",
              "       [0],\n",
              "       [1],\n",
              "       [1],\n",
              "       [1],\n",
              "       [0],\n",
              "       [0],\n",
              "       [0],\n",
              "       [1],\n",
              "       [0],\n",
              "       [1],\n",
              "       [1],\n",
              "       [0],\n",
              "       [0],\n",
              "       [1],\n",
              "       [0],\n",
              "       [0],\n",
              "       [1],\n",
              "       [1],\n",
              "       [1],\n",
              "       [1],\n",
              "       [1],\n",
              "       [1],\n",
              "       [0],\n",
              "       [0],\n",
              "       [1],\n",
              "       [1],\n",
              "       [0],\n",
              "       [1],\n",
              "       [0],\n",
              "       [0],\n",
              "       [1],\n",
              "       [0],\n",
              "       [1],\n",
              "       [0],\n",
              "       [1],\n",
              "       [1],\n",
              "       [0],\n",
              "       [1],\n",
              "       [1],\n",
              "       [0],\n",
              "       [0],\n",
              "       [1],\n",
              "       [0],\n",
              "       [1],\n",
              "       [1],\n",
              "       [0],\n",
              "       [0],\n",
              "       [1],\n",
              "       [0],\n",
              "       [0],\n",
              "       [1],\n",
              "       [1],\n",
              "       [1],\n",
              "       [1],\n",
              "       [1],\n",
              "       [1],\n",
              "       [0],\n",
              "       [0],\n",
              "       [0],\n",
              "       [1],\n",
              "       [1],\n",
              "       [0],\n",
              "       [1],\n",
              "       [0],\n",
              "       [1],\n",
              "       [0],\n",
              "       [0],\n",
              "       [0],\n",
              "       [1],\n",
              "       [0],\n",
              "       [0],\n",
              "       [0],\n",
              "       [1],\n",
              "       [0],\n",
              "       [0],\n",
              "       [0],\n",
              "       [0],\n",
              "       [1],\n",
              "       [1],\n",
              "       [0],\n",
              "       [0],\n",
              "       [0],\n",
              "       [1],\n",
              "       [0],\n",
              "       [1],\n",
              "       [0],\n",
              "       [1],\n",
              "       [0],\n",
              "       [1],\n",
              "       [1],\n",
              "       [0],\n",
              "       [0],\n",
              "       [0],\n",
              "       [1],\n",
              "       [0],\n",
              "       [0],\n",
              "       [1],\n",
              "       [1],\n",
              "       [1],\n",
              "       [0],\n",
              "       [1],\n",
              "       [1],\n",
              "       [1],\n",
              "       [1],\n",
              "       [1],\n",
              "       [1],\n",
              "       [1],\n",
              "       [0],\n",
              "       [1],\n",
              "       [0],\n",
              "       [1],\n",
              "       [0],\n",
              "       [1],\n",
              "       [0],\n",
              "       [1],\n",
              "       [0],\n",
              "       [1],\n",
              "       [1],\n",
              "       [0],\n",
              "       [0],\n",
              "       [0],\n",
              "       [0],\n",
              "       [1],\n",
              "       [0],\n",
              "       [1],\n",
              "       [1],\n",
              "       [1],\n",
              "       [0],\n",
              "       [0],\n",
              "       [0],\n",
              "       [1],\n",
              "       [1],\n",
              "       [0],\n",
              "       [0],\n",
              "       [0],\n",
              "       [1],\n",
              "       [0],\n",
              "       [1],\n",
              "       [0],\n",
              "       [0],\n",
              "       [0],\n",
              "       [0],\n",
              "       [0],\n",
              "       [1],\n",
              "       [0],\n",
              "       [1],\n",
              "       [1],\n",
              "       [1],\n",
              "       [1],\n",
              "       [0],\n",
              "       [1],\n",
              "       [1],\n",
              "       [0],\n",
              "       [1],\n",
              "       [1],\n",
              "       [0],\n",
              "       [1],\n",
              "       [1],\n",
              "       [0],\n",
              "       [0],\n",
              "       [0],\n",
              "       [1],\n",
              "       [1],\n",
              "       [1],\n",
              "       [1],\n",
              "       [1],\n",
              "       [1],\n",
              "       [1],\n",
              "       [0],\n",
              "       [1],\n",
              "       [0],\n",
              "       [1],\n",
              "       [1],\n",
              "       [0],\n",
              "       [0],\n",
              "       [0],\n",
              "       [1],\n",
              "       [0],\n",
              "       [1],\n",
              "       [1],\n",
              "       [1],\n",
              "       [0],\n",
              "       [0],\n",
              "       [1],\n",
              "       [1],\n",
              "       [0],\n",
              "       [1],\n",
              "       [0],\n",
              "       [1],\n",
              "       [0],\n",
              "       [0],\n",
              "       [0],\n",
              "       [1],\n",
              "       [1],\n",
              "       [1],\n",
              "       [1],\n",
              "       [0],\n",
              "       [0],\n",
              "       [1],\n",
              "       [1],\n",
              "       [1],\n",
              "       [0],\n",
              "       [0],\n",
              "       [0],\n",
              "       [1],\n",
              "       [1],\n",
              "       [0],\n",
              "       [1],\n",
              "       [1],\n",
              "       [1],\n",
              "       [1],\n",
              "       [0],\n",
              "       [0],\n",
              "       [0],\n",
              "       [1],\n",
              "       [0],\n",
              "       [1],\n",
              "       [0],\n",
              "       [0],\n",
              "       [0],\n",
              "       [1],\n",
              "       [1],\n",
              "       [1],\n",
              "       [1],\n",
              "       [0],\n",
              "       [0],\n",
              "       [1],\n",
              "       [0],\n",
              "       [1],\n",
              "       [0],\n",
              "       [1],\n",
              "       [1],\n",
              "       [1],\n",
              "       [0],\n",
              "       [0],\n",
              "       [0],\n",
              "       [0],\n",
              "       [1],\n",
              "       [1],\n",
              "       [1],\n",
              "       [1],\n",
              "       [1],\n",
              "       [1],\n",
              "       [0],\n",
              "       [0],\n",
              "       [1],\n",
              "       [0],\n",
              "       [1],\n",
              "       [0],\n",
              "       [0],\n",
              "       [1],\n",
              "       [1],\n",
              "       [0],\n",
              "       [1],\n",
              "       [0],\n",
              "       [1],\n",
              "       [0],\n",
              "       [0],\n",
              "       [1],\n",
              "       [1],\n",
              "       [1],\n",
              "       [1],\n",
              "       [1],\n",
              "       [1],\n",
              "       [1],\n",
              "       [1],\n",
              "       [1],\n",
              "       [0],\n",
              "       [1],\n",
              "       [1]])"
            ]
          },
          "metadata": {},
          "execution_count": 223
        }
      ]
    },
    {
      "cell_type": "code",
      "source": [
        "#Next we evaluate our model performance on test data\n",
        "LSTMmodel.evaluate(X_test_scaleddata,Ytesting)"
      ],
      "metadata": {
        "colab": {
          "base_uri": "https://localhost:8080/"
        },
        "id": "wF0AjWW171Sk",
        "outputId": "b9810868-52d2-4c2f-c6d9-9a653e072dce"
      },
      "id": "wF0AjWW171Sk",
      "execution_count": null,
      "outputs": [
        {
          "output_type": "stream",
          "name": "stdout",
          "text": [
            "10/10 [==============================] - 2s 7ms/step - loss: 0.2486\n"
          ]
        },
        {
          "output_type": "execute_result",
          "data": {
            "text/plain": [
              "0.24863119423389435"
            ]
          },
          "metadata": {},
          "execution_count": 224
        }
      ]
    },
    {
      "cell_type": "code",
      "source": [
        "#Now we can make the predictions on the fitted model using testing data to get the predicted label\n",
        "Predicted_stock_values_model=LSTMmodel.predict(X_test_scaleddata)"
      ],
      "metadata": {
        "id": "3EYhCcLP8DY_"
      },
      "id": "3EYhCcLP8DY_",
      "execution_count": null,
      "outputs": []
    },
    {
      "cell_type": "code",
      "source": [
        "Predicted_stock_values_model"
      ],
      "metadata": {
        "colab": {
          "base_uri": "https://localhost:8080/"
        },
        "id": "-A_-huoB8Gm6",
        "outputId": "ab59fa13-a944-4f54-defe-f40527d5fff9"
      },
      "id": "-A_-huoB8Gm6",
      "execution_count": null,
      "outputs": [
        {
          "output_type": "execute_result",
          "data": {
            "text/plain": [
              "array([[0.5351484 ],\n",
              "       [0.5342723 ],\n",
              "       [0.53485566],\n",
              "       [0.53564674],\n",
              "       [0.53607297],\n",
              "       [0.53596044],\n",
              "       [0.53578365],\n",
              "       [0.5357811 ],\n",
              "       [0.53537095],\n",
              "       [0.5356408 ],\n",
              "       [0.5353608 ],\n",
              "       [0.53571093],\n",
              "       [0.5361167 ],\n",
              "       [0.53640383],\n",
              "       [0.5360176 ],\n",
              "       [0.53572387],\n",
              "       [0.5358265 ],\n",
              "       [0.53561383],\n",
              "       [0.5357454 ],\n",
              "       [0.53576076],\n",
              "       [0.5361737 ],\n",
              "       [0.535679  ],\n",
              "       [0.5358496 ],\n",
              "       [0.53597283],\n",
              "       [0.53618526],\n",
              "       [0.53569764],\n",
              "       [0.5348471 ],\n",
              "       [0.53490925],\n",
              "       [0.5346292 ],\n",
              "       [0.5353338 ],\n",
              "       [0.5355345 ],\n",
              "       [0.53628385],\n",
              "       [0.5362033 ],\n",
              "       [0.5356861 ],\n",
              "       [0.5358891 ],\n",
              "       [0.5360167 ],\n",
              "       [0.5363429 ],\n",
              "       [0.5361149 ],\n",
              "       [0.53626114],\n",
              "       [0.53604007],\n",
              "       [0.5360905 ],\n",
              "       [0.5361486 ],\n",
              "       [0.53610486],\n",
              "       [0.5358238 ],\n",
              "       [0.5359092 ],\n",
              "       [0.5361239 ],\n",
              "       [0.536171  ],\n",
              "       [0.536242  ],\n",
              "       [0.5363791 ],\n",
              "       [0.536553  ],\n",
              "       [0.5364519 ],\n",
              "       [0.53630716],\n",
              "       [0.5363856 ],\n",
              "       [0.5365612 ],\n",
              "       [0.53639835],\n",
              "       [0.5362177 ],\n",
              "       [0.5362187 ],\n",
              "       [0.536272  ],\n",
              "       [0.53646433],\n",
              "       [0.5367073 ],\n",
              "       [0.5362032 ],\n",
              "       [0.53623796],\n",
              "       [0.5360312 ],\n",
              "       [0.53671944],\n",
              "       [0.5368438 ],\n",
              "       [0.5367948 ],\n",
              "       [0.5369904 ],\n",
              "       [0.5369235 ],\n",
              "       [0.536672  ],\n",
              "       [0.5366351 ],\n",
              "       [0.5367628 ],\n",
              "       [0.53665066],\n",
              "       [0.5368519 ],\n",
              "       [0.53679335],\n",
              "       [0.5365975 ],\n",
              "       [0.53667486],\n",
              "       [0.536729  ],\n",
              "       [0.5365469 ],\n",
              "       [0.5366307 ],\n",
              "       [0.53675056],\n",
              "       [0.5368821 ],\n",
              "       [0.53697264],\n",
              "       [0.5370411 ],\n",
              "       [0.5372201 ],\n",
              "       [0.5369462 ],\n",
              "       [0.5365032 ],\n",
              "       [0.5364158 ],\n",
              "       [0.5368211 ],\n",
              "       [0.53694236],\n",
              "       [0.536844  ],\n",
              "       [0.53645706],\n",
              "       [0.53674906],\n",
              "       [0.5367629 ],\n",
              "       [0.5370774 ],\n",
              "       [0.5368031 ],\n",
              "       [0.5368858 ],\n",
              "       [0.5369135 ],\n",
              "       [0.5369109 ],\n",
              "       [0.53611916],\n",
              "       [0.53624827],\n",
              "       [0.5361364 ],\n",
              "       [0.5365009 ],\n",
              "       [0.5360867 ],\n",
              "       [0.53622484],\n",
              "       [0.53630984],\n",
              "       [0.5364053 ],\n",
              "       [0.53662205],\n",
              "       [0.5365385 ],\n",
              "       [0.53603953],\n",
              "       [0.53616494],\n",
              "       [0.53621924],\n",
              "       [0.5363393 ],\n",
              "       [0.5361914 ],\n",
              "       [0.5360694 ],\n",
              "       [0.5358877 ],\n",
              "       [0.5360015 ],\n",
              "       [0.53601944],\n",
              "       [0.5363393 ],\n",
              "       [0.53618354],\n",
              "       [0.53601533],\n",
              "       [0.53583664],\n",
              "       [0.5360399 ],\n",
              "       [0.5361427 ],\n",
              "       [0.5362146 ],\n",
              "       [0.53627545],\n",
              "       [0.53635716],\n",
              "       [0.53647166],\n",
              "       [0.5364249 ],\n",
              "       [0.53633094],\n",
              "       [0.53646135],\n",
              "       [0.5365144 ],\n",
              "       [0.5365691 ],\n",
              "       [0.53630656],\n",
              "       [0.5363138 ],\n",
              "       [0.53645027],\n",
              "       [0.536856  ],\n",
              "       [0.53685176],\n",
              "       [0.53693515],\n",
              "       [0.53684205],\n",
              "       [0.5369234 ],\n",
              "       [0.53673255],\n",
              "       [0.5368219 ],\n",
              "       [0.53666055],\n",
              "       [0.53690255],\n",
              "       [0.5368139 ],\n",
              "       [0.5370097 ],\n",
              "       [0.5369722 ],\n",
              "       [0.5366673 ],\n",
              "       [0.5366024 ],\n",
              "       [0.53669125],\n",
              "       [0.5366753 ],\n",
              "       [0.5366374 ],\n",
              "       [0.5364211 ],\n",
              "       [0.5365186 ],\n",
              "       [0.53679276],\n",
              "       [0.5366198 ],\n",
              "       [0.5360491 ],\n",
              "       [0.53617907],\n",
              "       [0.53636914],\n",
              "       [0.5366904 ],\n",
              "       [0.5365938 ],\n",
              "       [0.53624386],\n",
              "       [0.53641164],\n",
              "       [0.5365447 ],\n",
              "       [0.5366545 ],\n",
              "       [0.5365404 ],\n",
              "       [0.5366193 ],\n",
              "       [0.53621536],\n",
              "       [0.53615004],\n",
              "       [0.536101  ],\n",
              "       [0.5359087 ],\n",
              "       [0.53612065],\n",
              "       [0.536248  ],\n",
              "       [0.53645486],\n",
              "       [0.5362343 ],\n",
              "       [0.53621435],\n",
              "       [0.5362747 ],\n",
              "       [0.53663373],\n",
              "       [0.5365626 ],\n",
              "       [0.53678983],\n",
              "       [0.53675103],\n",
              "       [0.53664285],\n",
              "       [0.53688914],\n",
              "       [0.53658676],\n",
              "       [0.53648   ],\n",
              "       [0.53668654],\n",
              "       [0.5369424 ],\n",
              "       [0.53671366],\n",
              "       [0.5368156 ],\n",
              "       [0.5368695 ],\n",
              "       [0.53689605],\n",
              "       [0.5369309 ],\n",
              "       [0.5369704 ],\n",
              "       [0.5370525 ],\n",
              "       [0.53711784],\n",
              "       [0.5373151 ],\n",
              "       [0.5373074 ],\n",
              "       [0.5373119 ],\n",
              "       [0.53734666],\n",
              "       [0.5372895 ],\n",
              "       [0.5374735 ],\n",
              "       [0.53749704],\n",
              "       [0.5371814 ],\n",
              "       [0.5372578 ],\n",
              "       [0.53732634],\n",
              "       [0.5373788 ],\n",
              "       [0.53734046],\n",
              "       [0.53732276],\n",
              "       [0.53751874],\n",
              "       [0.5374816 ],\n",
              "       [0.53729784],\n",
              "       [0.53725743],\n",
              "       [0.5374416 ],\n",
              "       [0.53739077],\n",
              "       [0.5374096 ],\n",
              "       [0.53741145],\n",
              "       [0.5374426 ],\n",
              "       [0.53749084],\n",
              "       [0.53728694],\n",
              "       [0.5372939 ],\n",
              "       [0.53729963],\n",
              "       [0.537279  ],\n",
              "       [0.5373531 ],\n",
              "       [0.537557  ],\n",
              "       [0.537536  ],\n",
              "       [0.5373777 ],\n",
              "       [0.5373321 ],\n",
              "       [0.537319  ],\n",
              "       [0.5375627 ],\n",
              "       [0.53760594],\n",
              "       [0.53740525],\n",
              "       [0.53742665],\n",
              "       [0.5374359 ],\n",
              "       [0.53762674],\n",
              "       [0.53762424],\n",
              "       [0.5375392 ],\n",
              "       [0.53749335],\n",
              "       [0.5375288 ],\n",
              "       [0.5377538 ],\n",
              "       [0.53779995],\n",
              "       [0.53717685],\n",
              "       [0.53678215],\n",
              "       [0.536796  ],\n",
              "       [0.53687525],\n",
              "       [0.53720546],\n",
              "       [0.537256  ],\n",
              "       [0.5372975 ],\n",
              "       [0.53726757],\n",
              "       [0.5372342 ],\n",
              "       [0.53724355],\n",
              "       [0.53728735],\n",
              "       [0.5374712 ],\n",
              "       [0.5374324 ],\n",
              "       [0.53722715],\n",
              "       [0.53725564],\n",
              "       [0.5372708 ],\n",
              "       [0.53684336],\n",
              "       [0.53690135],\n",
              "       [0.5366824 ],\n",
              "       [0.537096  ],\n",
              "       [0.5372639 ],\n",
              "       [0.53723043],\n",
              "       [0.53667307],\n",
              "       [0.53667676],\n",
              "       [0.536741  ],\n",
              "       [0.53717995],\n",
              "       [0.53722435],\n",
              "       [0.5372786 ],\n",
              "       [0.5373346 ],\n",
              "       [0.53733593],\n",
              "       [0.537449  ],\n",
              "       [0.537393  ],\n",
              "       [0.5373925 ],\n",
              "       [0.5375137 ],\n",
              "       [0.53753096],\n",
              "       [0.5375624 ],\n",
              "       [0.5376225 ],\n",
              "       [0.5374589 ],\n",
              "       [0.5374339 ],\n",
              "       [0.5376059 ],\n",
              "       [0.53756475],\n",
              "       [0.5375255 ],\n",
              "       [0.5375117 ],\n",
              "       [0.5374596 ],\n",
              "       [0.537318  ],\n",
              "       [0.53714746],\n",
              "       [0.5371159 ],\n",
              "       [0.537382  ],\n",
              "       [0.53740215],\n",
              "       [0.53749657],\n",
              "       [0.5375727 ],\n",
              "       [0.53763664],\n",
              "       [0.5377111 ],\n",
              "       [0.53772396],\n",
              "       [0.5379178 ],\n",
              "       [0.53785694]], dtype=float32)"
            ]
          },
          "metadata": {},
          "execution_count": 226
        }
      ]
    },
    {
      "cell_type": "code",
      "source": [
        "#Now creating a dataframe with real vs predicted stock prices and storing it in a dataframe\n",
        "stock_dataframe=pd.DataFrame({'Real':Real_prices.ravel(),'Predicted':Predicted_stock_values_model.ravel()})"
      ],
      "metadata": {
        "id": "EcRf4X3N2f2X"
      },
      "id": "EcRf4X3N2f2X",
      "execution_count": null,
      "outputs": []
    },
    {
      "cell_type": "code",
      "source": [
        "stock_dataframe.head()"
      ],
      "metadata": {
        "id": "uHfuhqsq2j1F",
        "colab": {
          "base_uri": "https://localhost:8080/",
          "height": 206
        },
        "outputId": "84c04ffe-1570-4f53-a398-b7f6dccac079"
      },
      "id": "uHfuhqsq2j1F",
      "execution_count": null,
      "outputs": [
        {
          "output_type": "execute_result",
          "data": {
            "text/html": [
              "<div>\n",
              "<style scoped>\n",
              "    .dataframe tbody tr th:only-of-type {\n",
              "        vertical-align: middle;\n",
              "    }\n",
              "\n",
              "    .dataframe tbody tr th {\n",
              "        vertical-align: top;\n",
              "    }\n",
              "\n",
              "    .dataframe thead th {\n",
              "        text-align: right;\n",
              "    }\n",
              "</style>\n",
              "<table border=\"1\" class=\"dataframe\">\n",
              "  <thead>\n",
              "    <tr style=\"text-align: right;\">\n",
              "      <th></th>\n",
              "      <th>Real</th>\n",
              "      <th>Predicted</th>\n",
              "    </tr>\n",
              "  </thead>\n",
              "  <tbody>\n",
              "    <tr>\n",
              "      <th>0</th>\n",
              "      <td>1</td>\n",
              "      <td>0.535148</td>\n",
              "    </tr>\n",
              "    <tr>\n",
              "      <th>1</th>\n",
              "      <td>1</td>\n",
              "      <td>0.534272</td>\n",
              "    </tr>\n",
              "    <tr>\n",
              "      <th>2</th>\n",
              "      <td>0</td>\n",
              "      <td>0.534856</td>\n",
              "    </tr>\n",
              "    <tr>\n",
              "      <th>3</th>\n",
              "      <td>1</td>\n",
              "      <td>0.535647</td>\n",
              "    </tr>\n",
              "    <tr>\n",
              "      <th>4</th>\n",
              "      <td>1</td>\n",
              "      <td>0.536073</td>\n",
              "    </tr>\n",
              "  </tbody>\n",
              "</table>\n",
              "</div>"
            ],
            "text/plain": [
              "   Real  Predicted\n",
              "0     1   0.535148\n",
              "1     1   0.534272\n",
              "2     0   0.534856\n",
              "3     1   0.535647\n",
              "4     1   0.536073"
            ]
          },
          "metadata": {},
          "execution_count": 234
        }
      ]
    },
    {
      "cell_type": "code",
      "source": [
        "#Because LSTM only outputs a continuous range and not a binary output\n",
        "#We have to round of the predicted values to either 0 or 1\n",
        "for i in range(0,len(stock_dataframe['Predicted'])):\n",
        "    stock_dataframe.Predicted.iloc[i]=np.where(stock_dataframe.Predicted.iloc[i]>0.536,1,0)"
      ],
      "metadata": {
        "id": "h_3hLpgU2l-s",
        "colab": {
          "base_uri": "https://localhost:8080/"
        },
        "outputId": "29f7b0e5-8a2a-4d8d-b3c1-9b2da2a46586"
      },
      "id": "h_3hLpgU2l-s",
      "execution_count": null,
      "outputs": [
        {
          "output_type": "stream",
          "name": "stderr",
          "text": [
            "/usr/local/lib/python3.7/dist-packages/pandas/core/indexing.py:670: SettingWithCopyWarning: \n",
            "A value is trying to be set on a copy of a slice from a DataFrame\n",
            "\n",
            "See the caveats in the documentation: https://pandas.pydata.org/pandas-docs/stable/user_guide/indexing.html#returning-a-view-versus-a-copy\n",
            "  iloc._setitem_with_indexer(indexer, value)\n"
          ]
        }
      ]
    },
    {
      "cell_type": "code",
      "source": [
        "stock_dataframe['Predicted']=stock_dataframe['Predicted'].astype(int)"
      ],
      "metadata": {
        "id": "NoISrBHB2o1b"
      },
      "id": "NoISrBHB2o1b",
      "execution_count": null,
      "outputs": []
    },
    {
      "cell_type": "code",
      "source": [
        "stock_dataframe"
      ],
      "metadata": {
        "id": "cl2boI5u2sHI",
        "colab": {
          "base_uri": "https://localhost:8080/",
          "height": 424
        },
        "outputId": "e80de35f-56e0-4d9a-e44c-4123d1945917"
      },
      "id": "cl2boI5u2sHI",
      "execution_count": null,
      "outputs": [
        {
          "output_type": "execute_result",
          "data": {
            "text/html": [
              "<div>\n",
              "<style scoped>\n",
              "    .dataframe tbody tr th:only-of-type {\n",
              "        vertical-align: middle;\n",
              "    }\n",
              "\n",
              "    .dataframe tbody tr th {\n",
              "        vertical-align: top;\n",
              "    }\n",
              "\n",
              "    .dataframe thead th {\n",
              "        text-align: right;\n",
              "    }\n",
              "</style>\n",
              "<table border=\"1\" class=\"dataframe\">\n",
              "  <thead>\n",
              "    <tr style=\"text-align: right;\">\n",
              "      <th></th>\n",
              "      <th>Real</th>\n",
              "      <th>Predicted</th>\n",
              "    </tr>\n",
              "  </thead>\n",
              "  <tbody>\n",
              "    <tr>\n",
              "      <th>0</th>\n",
              "      <td>1</td>\n",
              "      <td>0</td>\n",
              "    </tr>\n",
              "    <tr>\n",
              "      <th>1</th>\n",
              "      <td>1</td>\n",
              "      <td>0</td>\n",
              "    </tr>\n",
              "    <tr>\n",
              "      <th>2</th>\n",
              "      <td>0</td>\n",
              "      <td>0</td>\n",
              "    </tr>\n",
              "    <tr>\n",
              "      <th>3</th>\n",
              "      <td>1</td>\n",
              "      <td>0</td>\n",
              "    </tr>\n",
              "    <tr>\n",
              "      <th>4</th>\n",
              "      <td>1</td>\n",
              "      <td>1</td>\n",
              "    </tr>\n",
              "    <tr>\n",
              "      <th>...</th>\n",
              "      <td>...</td>\n",
              "      <td>...</td>\n",
              "    </tr>\n",
              "    <tr>\n",
              "      <th>291</th>\n",
              "      <td>1</td>\n",
              "      <td>1</td>\n",
              "    </tr>\n",
              "    <tr>\n",
              "      <th>292</th>\n",
              "      <td>1</td>\n",
              "      <td>1</td>\n",
              "    </tr>\n",
              "    <tr>\n",
              "      <th>293</th>\n",
              "      <td>0</td>\n",
              "      <td>1</td>\n",
              "    </tr>\n",
              "    <tr>\n",
              "      <th>294</th>\n",
              "      <td>1</td>\n",
              "      <td>1</td>\n",
              "    </tr>\n",
              "    <tr>\n",
              "      <th>295</th>\n",
              "      <td>1</td>\n",
              "      <td>1</td>\n",
              "    </tr>\n",
              "  </tbody>\n",
              "</table>\n",
              "<p>296 rows × 2 columns</p>\n",
              "</div>"
            ],
            "text/plain": [
              "     Real  Predicted\n",
              "0       1          0\n",
              "1       1          0\n",
              "2       0          0\n",
              "3       1          0\n",
              "4       1          1\n",
              "..    ...        ...\n",
              "291     1          1\n",
              "292     1          1\n",
              "293     0          1\n",
              "294     1          1\n",
              "295     1          1\n",
              "\n",
              "[296 rows x 2 columns]"
            ]
          },
          "metadata": {},
          "execution_count": 237
        }
      ]
    },
    {
      "cell_type": "code",
      "source": [
        "#Now we get the total number of True Positives and True Negatives in the model \n",
        "c=0\n",
        "for i in range(len(stock_dataframe)):\n",
        "    if stock_dataframe.Real.iloc[i]==stock_dataframe.Predicted.iloc[i]:\n",
        "        c+=1"
      ],
      "metadata": {
        "id": "-KAfWaid2uMN"
      },
      "id": "-KAfWaid2uMN",
      "execution_count": null,
      "outputs": []
    },
    {
      "cell_type": "code",
      "source": [
        "print(c)"
      ],
      "metadata": {
        "id": "dBwBXmMP2wma",
        "colab": {
          "base_uri": "https://localhost:8080/"
        },
        "outputId": "a30cbafb-5e08-482c-b69d-6cc773e39574"
      },
      "id": "dBwBXmMP2wma",
      "execution_count": null,
      "outputs": [
        {
          "output_type": "stream",
          "name": "stdout",
          "text": [
            "157\n"
          ]
        }
      ]
    },
    {
      "cell_type": "code",
      "source": [
        "print(\"Accuracy:\",c/len(stock_dataframe))"
      ],
      "metadata": {
        "id": "FIF6utqf2yTE",
        "colab": {
          "base_uri": "https://localhost:8080/"
        },
        "outputId": "f4ab3606-1184-452e-fccb-00d0d4865f97"
      },
      "id": "FIF6utqf2yTE",
      "execution_count": null,
      "outputs": [
        {
          "output_type": "stream",
          "name": "stdout",
          "text": [
            "Accuracy: 0.5304054054054054\n"
          ]
        }
      ]
    },
    {
      "cell_type": "code",
      "source": [
        "#Now we get number of true positives only i.e. only classes with label 1\n",
        "d=0\n",
        "for i in range(len(stock_dataframe)):\n",
        "    if stock_dataframe.Real.iloc[i]==stock_dataframe.Predicted.iloc[i]==1:\n",
        "        d+=1"
      ],
      "metadata": {
        "id": "Mfff9Ywi20ku"
      },
      "id": "Mfff9Ywi20ku",
      "execution_count": null,
      "outputs": []
    },
    {
      "cell_type": "code",
      "source": [
        "#Now we get number of False positives only i.e. label 0 predicted as 1\n",
        "e=0\n",
        "for i in range(len(stock_dataframe)):\n",
        "    if stock_dataframe.Real.iloc[i]==0 and stock_dataframe.Predicted.iloc[i]==1:\n",
        "        e+=1"
      ],
      "metadata": {
        "id": "wvmznxL422_A"
      },
      "id": "wvmznxL422_A",
      "execution_count": null,
      "outputs": []
    },
    {
      "cell_type": "code",
      "source": [
        "#Now we get number of True Negatives only i.e. only classes with label 0\n",
        "f=0\n",
        "for i in range(len(stock_dataframe)):\n",
        "    if stock_dataframe.Real.iloc[i]==stock_dataframe.Predicted.iloc[i]==0:\n",
        "        f+=1"
      ],
      "metadata": {
        "id": "lXU7ZWZj26rY"
      },
      "id": "lXU7ZWZj26rY",
      "execution_count": null,
      "outputs": []
    },
    {
      "cell_type": "code",
      "source": [
        "#Now we get number of False Negatives only i.e. label 1 predicted as 0\n",
        "g=0\n",
        "for i in range(len(stock_dataframe)):\n",
        "    if stock_dataframe.Real.iloc[i]==1 and stock_dataframe.Predicted.iloc[i]==0:\n",
        "        g+=1"
      ],
      "metadata": {
        "id": "yjJ79ibv28so"
      },
      "id": "yjJ79ibv28so",
      "execution_count": null,
      "outputs": []
    },
    {
      "cell_type": "code",
      "source": [
        "#Number of True Positives\n",
        "print(d)"
      ],
      "metadata": {
        "id": "8zBrwwdu2-82",
        "colab": {
          "base_uri": "https://localhost:8080/"
        },
        "outputId": "7d860a71-4c65-4ef5-8b05-e679e49a664c"
      },
      "id": "8zBrwwdu2-82",
      "execution_count": null,
      "outputs": [
        {
          "output_type": "stream",
          "name": "stdout",
          "text": [
            "142\n"
          ]
        }
      ]
    },
    {
      "cell_type": "code",
      "source": [
        "#Number of True Neagtives\n",
        "print(f)"
      ],
      "metadata": {
        "id": "K40IX-o-3Ame",
        "colab": {
          "base_uri": "https://localhost:8080/"
        },
        "outputId": "3ec79aee-cb3f-4d87-c8e9-b7674f6866b3"
      },
      "id": "K40IX-o-3Ame",
      "execution_count": null,
      "outputs": [
        {
          "output_type": "stream",
          "name": "stdout",
          "text": [
            "15\n"
          ]
        }
      ]
    },
    {
      "cell_type": "code",
      "source": [
        "#Number of False Positives\n",
        "print(e)"
      ],
      "metadata": {
        "id": "ksZweFGU3CYM",
        "colab": {
          "base_uri": "https://localhost:8080/"
        },
        "outputId": "c66959d8-44b3-41a4-acb9-a8836f5895d0"
      },
      "id": "ksZweFGU3CYM",
      "execution_count": null,
      "outputs": [
        {
          "output_type": "stream",
          "name": "stdout",
          "text": [
            "122\n"
          ]
        }
      ]
    },
    {
      "cell_type": "code",
      "source": [
        "#Number of False Negatives\n",
        "print(g)"
      ],
      "metadata": {
        "id": "nOktGYlu3EqX",
        "colab": {
          "base_uri": "https://localhost:8080/"
        },
        "outputId": "e20855b3-bea3-4f88-eb64-20cdc1efd012"
      },
      "id": "nOktGYlu3EqX",
      "execution_count": null,
      "outputs": [
        {
          "output_type": "stream",
          "name": "stdout",
          "text": [
            "17\n"
          ]
        }
      ]
    },
    {
      "cell_type": "code",
      "source": [
        "#Calculating Precision for the model\n",
        "print(\"Precision: \",d/(d+e))"
      ],
      "metadata": {
        "id": "xsIulIP13GcH",
        "colab": {
          "base_uri": "https://localhost:8080/"
        },
        "outputId": "c9278673-23f8-495b-e30a-16bbbc6a58a8"
      },
      "id": "xsIulIP13GcH",
      "execution_count": null,
      "outputs": [
        {
          "output_type": "stream",
          "name": "stdout",
          "text": [
            "Precision:  0.5378787878787878\n"
          ]
        }
      ]
    },
    {
      "cell_type": "code",
      "source": [
        "#Calculating Recall for the model\n",
        "print(\"Recall: \",d/(d+g))"
      ],
      "metadata": {
        "id": "w0b5L9cO3IzE",
        "colab": {
          "base_uri": "https://localhost:8080/"
        },
        "outputId": "2d3cc193-fbb6-410d-8249-57c6fd37d9f3"
      },
      "id": "w0b5L9cO3IzE",
      "execution_count": null,
      "outputs": [
        {
          "output_type": "stream",
          "name": "stdout",
          "text": [
            "Recall:  0.8930817610062893\n"
          ]
        }
      ]
    }
  ],
  "metadata": {
    "kernelspec": {
      "display_name": "Python 3 (ipykernel)",
      "language": "python",
      "name": "python3"
    },
    "language_info": {
      "codemirror_mode": {
        "name": "ipython",
        "version": 3
      },
      "file_extension": ".py",
      "mimetype": "text/x-python",
      "name": "python",
      "nbconvert_exporter": "python",
      "pygments_lexer": "ipython3",
      "version": "3.8.11"
    },
    "colab": {
      "name": "stockpriceprediction.ipynb",
      "provenance": [],
      "collapsed_sections": [
        "9505c89a-0ecc-48a0-a8cf-8d8abfcd3cff",
        "0016d002-45da-463e-91d1-6b0d1cb903d1",
        "zkyXVixSyMRc"
      ]
    }
  },
  "nbformat": 4,
  "nbformat_minor": 5
}